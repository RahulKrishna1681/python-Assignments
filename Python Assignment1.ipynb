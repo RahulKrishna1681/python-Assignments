{
  "nbformat": 4,
  "nbformat_minor": 0,
  "metadata": {
    "colab": {
      "name": "python Assignment-1",
      "provenance": [],
      "authorship_tag": "ABX9TyNyh4LqBvW/2qJmz7cAT+w6",
      "include_colab_link": true
    },
    "kernelspec": {
      "name": "python3",
      "display_name": "Python 3"
    }
  },
  "cells": [
    {
      "cell_type": "markdown",
      "metadata": {
        "id": "view-in-github",
        "colab_type": "text"
      },
      "source": [
        "<a href=\"https://colab.research.google.com/github/RahulKrishna1681/python-Assignments/blob/master/python_Assignment_1.ipynb\" target=\"_parent\"><img src=\"https://colab.research.google.com/assets/colab-badge.svg\" alt=\"Open In Colab\"/></a>"
      ]
    },
    {
      "cell_type": "markdown",
      "metadata": {
        "id": "6326cdlK_gMN",
        "colab_type": "text"
      },
      "source": [
        "Program for Simple Calculator"
      ]
    },
    {
      "cell_type": "code",
      "metadata": {
        "id": "1O-ccguV_Zuv",
        "colab_type": "code",
        "colab": {
          "base_uri": "https://localhost:8080/",
          "height": 151
        },
        "outputId": "24779443-df9c-49dd-82d5-bf7042199ccc"
      },
      "source": [
        "a=int(input('Enter the First value:'))\n",
        "b=int(input('Enter the second value:'))\n",
        "print('The Sum is:',a+b )\n",
        "print('The Diff is:',a-b)\n",
        "print('The Product is:',a*b)\n",
        "print('The Quotients is:',a/b)\n",
        "print('The Power is:',a**b)\n",
        "print('The remaninder is:',a//b)"
      ],
      "execution_count": null,
      "outputs": [
        {
          "output_type": "stream",
          "text": [
            "Enter the First value:10\n",
            "Enter the second value:10\n",
            "The Sum is: 20\n",
            "The Diff is: 0\n",
            "The Product is: 100\n",
            "The Quotients is: 1.0\n",
            "The Power is: 10000000000\n",
            "The remaninder is: 1\n"
          ],
          "name": "stdout"
        }
      ]
    },
    {
      "cell_type": "markdown",
      "metadata": {
        "id": "TFRPO8x9CJPh",
        "colab_type": "text"
      },
      "source": [
        "\n",
        "Program To Find Simple Intrest"
      ]
    },
    {
      "cell_type": "code",
      "metadata": {
        "id": "yHteSiotCVsm",
        "colab_type": "code",
        "colab": {
          "base_uri": "https://localhost:8080/",
          "height": 84
        },
        "outputId": "4b60740e-990d-4a03-84d9-98251465dea5"
      },
      "source": [
        "p=float(input('Enter the principle Amount:'))\n",
        "t=float(input('Enter the Time period:'))\n",
        "r=float(input('Enter the Rate:'))\n",
        "SI=((p*t*r)/100)\n",
        "print(\"The Simple Intrest is:\",SI)"
      ],
      "execution_count": null,
      "outputs": [
        {
          "output_type": "stream",
          "text": [
            "Enter the principle Amount:10000\n",
            "Enter the Time period:12\n",
            "Enter the Rate:1\n",
            "The Simple Intrest is: 1200.0\n"
          ],
          "name": "stdout"
        }
      ]
    },
    {
      "cell_type": "markdown",
      "metadata": {
        "id": "G-9Kszm_DLMn",
        "colab_type": "text"
      },
      "source": [
        "Program to Calculate Area of a circle\n"
      ]
    },
    {
      "cell_type": "code",
      "metadata": {
        "id": "d6Gw6KLsDUXl",
        "colab_type": "code",
        "colab": {
          "base_uri": "https://localhost:8080/",
          "height": 50
        },
        "outputId": "aa609f34-49a1-4b2f-9d73-9ac408d464bc"
      },
      "source": [
        "pi=3.142\n",
        "r=float(input('Enter the Radius:'))\n",
        "Area=pi*r*r\n",
        "print(\"The Area of the Circle is:\",Area)"
      ],
      "execution_count": null,
      "outputs": [
        {
          "output_type": "stream",
          "text": [
            "Enter the Radius:10\n",
            "The Area of the Circle is: 314.2\n"
          ],
          "name": "stdout"
        }
      ]
    },
    {
      "cell_type": "markdown",
      "metadata": {
        "id": "LLwuvBpK_e8X",
        "colab_type": "text"
      },
      "source": [
        ""
      ]
    },
    {
      "cell_type": "markdown",
      "metadata": {
        "id": "6cJT9c3OEIrm",
        "colab_type": "text"
      },
      "source": [
        "Program to Find Area of a Triangle"
      ]
    },
    {
      "cell_type": "code",
      "metadata": {
        "id": "brH4lfBOEOXj",
        "colab_type": "code",
        "colab": {
          "base_uri": "https://localhost:8080/",
          "height": 84
        },
        "outputId": "eeccf64a-9a2d-4edb-bd4c-731b988fc5a4"
      },
      "source": [
        "a=float(input('Enter the First side:'))\n",
        "b=float(input('Enter the Second side:'))\n",
        "c=float(input('Enter the Third side:'))\n",
        "s = (a + b + c) / 2\n",
        "area = (s*(s-a)*(s-b)*(s-c)) ** (0.5)\n",
        "print(\"The area of the Triangle is:\",area)"
      ],
      "execution_count": null,
      "outputs": [
        {
          "output_type": "stream",
          "text": [
            "Enter the First side:10\n",
            "Enter the Second side:10\n",
            "Enter the Third side:10\n",
            "The area of the Triangle is: 43.30127018922193\n"
          ],
          "name": "stdout"
        }
      ]
    },
    {
      "cell_type": "markdown",
      "metadata": {
        "id": "tFF8XS2_G_tx",
        "colab_type": "text"
      },
      "source": [
        "Program to Convert Celsius to Fahrenheit\n"
      ]
    },
    {
      "cell_type": "code",
      "metadata": {
        "id": "1E2Dx5GBG--4",
        "colab_type": "code",
        "colab": {
          "base_uri": "https://localhost:8080/",
          "height": 50
        },
        "outputId": "9a5fa432-ce26-4ae4-f606-f0890899802c"
      },
      "source": [
        "celsius = float(input('Enter temperature in Celsius:'))\n",
        "fahrenheit=(celsius*1.8)+32\n",
        "print(\"The Fahrenheit is:\",fahrenheit)"
      ],
      "execution_count": null,
      "outputs": [
        {
          "output_type": "stream",
          "text": [
            "Enter temperature in Celsius:36\n",
            "The Fahrenheit is: 96.8\n"
          ],
          "name": "stdout"
        }
      ]
    },
    {
      "cell_type": "markdown",
      "metadata": {
        "id": "4dDTdV1AIXjj",
        "colab_type": "text"
      },
      "source": [
        "Program to Find Area of a Rectangle"
      ]
    },
    {
      "cell_type": "code",
      "metadata": {
        "id": "AFveIk0yIebl",
        "colab_type": "code",
        "colab": {
          "base_uri": "https://localhost:8080/",
          "height": 67
        },
        "outputId": "7a72c092-1be0-43d9-f893-5969a77f4610"
      },
      "source": [
        "length=int(input('Enter the length of Rectangle:'))\n",
        "breadth=int(input('Enter the breadth of Rectangle:'))\n",
        "Area=length*breadth\n",
        "print(\"The Area of a Rectangle is:\",Area)"
      ],
      "execution_count": null,
      "outputs": [
        {
          "output_type": "stream",
          "text": [
            "Enter the length of Rectangle:10\n",
            "Enter the breadth of Rectangle:10\n",
            "The Area of a Rectangle is: 100\n"
          ],
          "name": "stdout"
        }
      ]
    },
    {
      "cell_type": "markdown",
      "metadata": {
        "id": "sMexcBeLJBTB",
        "colab_type": "text"
      },
      "source": [
        "Program to calculate perimeter of a square."
      ]
    },
    {
      "cell_type": "code",
      "metadata": {
        "id": "w5HKKPB8JHlK",
        "colab_type": "code",
        "colab": {
          "base_uri": "https://localhost:8080/",
          "height": 50
        },
        "outputId": "460b9ef7-49e5-4cd4-acdc-01e3387785b4"
      },
      "source": [
        "side=int(input('Enter the side of the square:'))\n",
        "perimeter=4*side\n",
        "print(\"The perimeter of Square is:\",perimeter)"
      ],
      "execution_count": null,
      "outputs": [
        {
          "output_type": "stream",
          "text": [
            "Enter the side of the square:10\n",
            "The perimeter of Square is: 40\n"
          ],
          "name": "stdout"
        }
      ]
    },
    {
      "cell_type": "markdown",
      "metadata": {
        "id": "4s1hUG6zKbkv",
        "colab_type": "text"
      },
      "source": [
        "Program to calculate circumference of a circle"
      ]
    },
    {
      "cell_type": "code",
      "metadata": {
        "id": "xZfjRImyKjiA",
        "colab_type": "code",
        "colab": {
          "base_uri": "https://localhost:8080/",
          "height": 50
        },
        "outputId": "b67af65f-a849-4846-f603-fb36d498032c"
      },
      "source": [
        "pi=3.14\n",
        "radius=float(input('Enter the Radius:'))\n",
        "Circum=2*pi*radius\n",
        "print(\"The Circumference of the circle is:\",Circum)"
      ],
      "execution_count": null,
      "outputs": [
        {
          "output_type": "stream",
          "text": [
            "Enter the Radius:10\n",
            "The Circumference of the circle is: 62.800000000000004\n"
          ],
          "name": "stdout"
        }
      ]
    },
    {
      "cell_type": "markdown",
      "metadata": {
        "id": "7XHM1Fw4LCAi",
        "colab_type": "text"
      },
      "source": [
        "Program to swap two numbers"
      ]
    },
    {
      "cell_type": "code",
      "metadata": {
        "id": "FQXQ9D87LHiQ",
        "colab_type": "code",
        "colab": {
          "base_uri": "https://localhost:8080/",
          "height": 84
        },
        "outputId": "4b005e93-f47c-4a28-ccb2-ddff64e51333"
      },
      "source": [
        "a=int(input('Enter the First number'))\n",
        "b=int(input('Enter the number to be swapped'))\n",
        "c=a\n",
        "a=b\n",
        "b=c\n",
        "print(\"The value of a after swapping\",a)\n",
        "print(\"The Value of b after swapping\",b)"
      ],
      "execution_count": null,
      "outputs": [
        {
          "output_type": "stream",
          "text": [
            "Enter the First number10\n",
            "Enter the number to be swapped20\n",
            "The value of a after swapping 20\n",
            "The Value of b after swapping 10\n"
          ],
          "name": "stdout"
        }
      ]
    }
  ]
}
