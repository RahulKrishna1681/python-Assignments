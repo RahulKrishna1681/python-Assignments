{
  "nbformat": 4,
  "nbformat_minor": 0,
  "metadata": {
    "colab": {
      "name": "PythonAssignment_8 ",
      "provenance": [],
      "authorship_tag": "ABX9TyPqTJpaYUT8SQ2k5Rwon8lp",
      "include_colab_link": true
    },
    "kernelspec": {
      "name": "python3",
      "display_name": "Python 3"
    }
  },
  "cells": [
    {
      "cell_type": "markdown",
      "metadata": {
        "id": "view-in-github",
        "colab_type": "text"
      },
      "source": [
        "<a href=\"https://colab.research.google.com/github/RahulKrishna1681/python-Assignments/blob/master/PythonAssignment_8.ipynb\" target=\"_parent\"><img src=\"https://colab.research.google.com/assets/colab-badge.svg\" alt=\"Open In Colab\"/></a>"
      ]
    },
    {
      "cell_type": "markdown",
      "metadata": {
        "id": "TsJXEaVyfzH8",
        "colab_type": "text"
      },
      "source": [
        "\n",
        "1) Write a python program to find the square root"
      ]
    },
    {
      "cell_type": "code",
      "metadata": {
        "id": "eS7dfMmKeJ3s",
        "colab_type": "code",
        "colab": {
          "base_uri": "https://localhost:8080/",
          "height": 50
        },
        "outputId": "a802fdd4-0e1d-4e38-e334-1846a002b547"
      },
      "source": [
        "n=int(input(\"Enter the number\"))\n",
        "sqrt=(n**1/2)\n",
        "print(\"The square of root {} is:{} \".format(n,sqrt))"
      ],
      "execution_count": 1,
      "outputs": [
        {
          "output_type": "stream",
          "text": [
            "Enter the number25\n",
            "The square of root 25 is:12.5 \n"
          ],
          "name": "stdout"
        }
      ]
    },
    {
      "cell_type": "markdown",
      "metadata": {
        "id": "qYL0ozAOfzcM",
        "colab_type": "text"
      },
      "source": [
        "2) Write a python program to check if a number is Positive,Negative or 0"
      ]
    },
    {
      "cell_type": "code",
      "metadata": {
        "id": "o7b5u4tKfzyj",
        "colab_type": "code",
        "colab": {
          "base_uri": "https://localhost:8080/",
          "height": 50
        },
        "outputId": "9f74ab79-d4aa-43c6-c59f-8609ae2bf27f"
      },
      "source": [
        "n=int(input(\"Enter the number\"))\n",
        "if n>0:\n",
        "  print(\"Number is Positive\")\n",
        "elif n<0:\n",
        "  print(\"Number is Negative\")\n",
        "else:\n",
        "  print(\"Number is Zero\")"
      ],
      "execution_count": 2,
      "outputs": [
        {
          "output_type": "stream",
          "text": [
            "Enter the number-200\n",
            "Number is Negative\n"
          ],
          "name": "stdout"
        }
      ]
    },
    {
      "cell_type": "markdown",
      "metadata": {
        "id": "_nkQpFcpf0Ga",
        "colab_type": "text"
      },
      "source": [
        "\n",
        "3) Write a python program to check leap year"
      ]
    },
    {
      "cell_type": "code",
      "metadata": {
        "id": "CqigVGz7f0cL",
        "colab_type": "code",
        "colab": {
          "base_uri": "https://localhost:8080/",
          "height": 50
        },
        "outputId": "e9e47560-e8d4-4959-99ef-350712d6cd74"
      },
      "source": [
        "year = int(input(\"Enter a year: \"))  \n",
        "if (year % 4) == 0:  \n",
        "   if (year % 100) == 0:  \n",
        "       if (year % 400) == 0:  \n",
        "           print(\"{} is a leap year\".format(year))  \n",
        "       else:  \n",
        "           print(\"{} is not a leap year\".format(year))  \n",
        "   else:  \n",
        "       print(\"{} is a leap year\".format(year))  \n",
        "else:  \n",
        "   print(\"{} is not a leap year\".format(year))"
      ],
      "execution_count": 3,
      "outputs": [
        {
          "output_type": "stream",
          "text": [
            "Enter a year: 2020\n",
            "2020 is a leap year\n"
          ],
          "name": "stdout"
        }
      ]
    },
    {
      "cell_type": "markdown",
      "metadata": {
        "id": "t5zZKQVXf1Ca",
        "colab_type": "text"
      },
      "source": [
        "4)Write a python program to print fibonacci sequence"
      ]
    },
    {
      "cell_type": "code",
      "metadata": {
        "id": "6ip9omK2f1TV",
        "colab_type": "code",
        "colab": {
          "base_uri": "https://localhost:8080/",
          "height": 218
        },
        "outputId": "e574f381-42c2-48eb-d1cb-7e39644c802c"
      },
      "source": [
        "n=int(input(\"Enter the number\"))\n",
        "a=0\n",
        "b=1\n",
        "if n<=0:\n",
        "   print(\"Enter the positive integer\")\n",
        "elif n==1:\n",
        "   print(\"Fibonacci sequence upto\",n)\n",
        "   print(a)\n",
        "else:\n",
        "  print(\"The fibonacci sequence: \")\n",
        "  for i in range(0,n):\n",
        "   print(a) \n",
        "   c=a+b\n",
        "   a=b\n",
        "   b=c"
      ],
      "execution_count": 4,
      "outputs": [
        {
          "output_type": "stream",
          "text": [
            "Enter the number10\n",
            "The fibonacci sequence: \n",
            "0\n",
            "1\n",
            "1\n",
            "2\n",
            "3\n",
            "5\n",
            "8\n",
            "13\n",
            "21\n",
            "34\n"
          ],
          "name": "stdout"
        }
      ]
    },
    {
      "cell_type": "markdown",
      "metadata": {
        "id": "3RO0dCW5f1sz",
        "colab_type": "text"
      },
      "source": [
        "\n",
        "5)Write a python program to check armstrong number"
      ]
    },
    {
      "cell_type": "code",
      "metadata": {
        "id": "NG-nTiF3f1-2",
        "colab_type": "code",
        "colab": {
          "base_uri": "https://localhost:8080/",
          "height": 50
        },
        "outputId": "4579c04a-11f6-4143-cba9-bc9b515e3697"
      },
      "source": [
        "num = int(input(\"Enter a number: \"))\n",
        "sum = 0\n",
        "temp = num\n",
        "while temp > 0:\n",
        "   digit = temp % 10\n",
        "   sum += digit ** 3\n",
        "   temp //= 10\n",
        "if num == sum:\n",
        "   print(num,\"is an Armstrong number\")\n",
        "else:\n",
        "   print(num,\"is not an Armstrong number\")"
      ],
      "execution_count": 7,
      "outputs": [
        {
          "output_type": "stream",
          "text": [
            "Enter a number: 153\n",
            "153 is an Armstrong number\n"
          ],
          "name": "stdout"
        }
      ]
    },
    {
      "cell_type": "markdown",
      "metadata": {
        "id": "ETs-j9WAf2_c",
        "colab_type": "text"
      },
      "source": [
        "\n",
        "6)Write a python program to find armstong number in an interval"
      ]
    },
    {
      "cell_type": "code",
      "metadata": {
        "id": "DEK1ORIhf3Zr",
        "colab_type": "code",
        "colab": {
          "base_uri": "https://localhost:8080/",
          "height": 67
        },
        "outputId": "d7e8625d-1b10-49b0-d93a-8621030c91c7"
      },
      "source": [
        "lower=int(input(\"Enter the lower limit number\"))\n",
        "upper=int(input(\"Enter the upper limit number\"))\n",
        "for num in range(lower,upper+1):\n",
        "  order=len(str(num))\n",
        "  sum=0\n",
        "  temp=num\n",
        "  while temp>0:\n",
        "    digit=temp%10\n",
        "    sum+=digit**order\n",
        "    temp//=10 \n",
        "  if num==sum:\n",
        "    print(num)"
      ],
      "execution_count": 8,
      "outputs": [
        {
          "output_type": "stream",
          "text": [
            "Enter the lower limit number100\n",
            "Enter the upper limit number200\n",
            "153\n"
          ],
          "name": "stdout"
        }
      ]
    }
  ]
}
