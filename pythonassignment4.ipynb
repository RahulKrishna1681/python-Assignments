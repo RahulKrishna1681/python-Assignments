{
  "nbformat": 4,
  "nbformat_minor": 0,
  "metadata": {
    "colab": {
      "name": "pythonassignment4",
      "provenance": [],
      "authorship_tag": "ABX9TyOh93hMBI5LRJQxigCW+ncC",
      "include_colab_link": true
    },
    "kernelspec": {
      "name": "python3",
      "display_name": "Python 3"
    }
  },
  "cells": [
    {
      "cell_type": "markdown",
      "metadata": {
        "id": "view-in-github",
        "colab_type": "text"
      },
      "source": [
        "<a href=\"https://colab.research.google.com/github/RahulKrishna1681/python-Assignments/blob/master/pythonassignment4.ipynb\" target=\"_parent\"><img src=\"https://colab.research.google.com/assets/colab-badge.svg\" alt=\"Open In Colab\"/></a>"
      ]
    },
    {
      "cell_type": "markdown",
      "metadata": {
        "id": "u4k0d9y8Mmg3",
        "colab_type": "text"
      },
      "source": [
        "Python function to find the Max of three numbers."
      ]
    },
    {
      "cell_type": "code",
      "metadata": {
        "id": "6WPS6sYXZ45U",
        "colab_type": "code",
        "colab": {
          "base_uri": "https://localhost:8080/",
          "height": 84
        },
        "outputId": "92b6c730-fdf7-4841-d7c9-78c7ffb0f23d"
      },
      "source": [
        "x=int(input('Enter First Number'))\n",
        "y=int(input('Enter Second Number'))\n",
        "z=int(input('Enter Third Number'))\n",
        "if x>y:\n",
        "  if x>z:\n",
        "    print(\"X is Greatest\")\n",
        "  else:\n",
        "    print(\"Z is Greatest\")\n",
        "elif y>x:\n",
        "  if y>z:\n",
        "    print(\"Y is Greatest\")\n",
        "  else:\n",
        "    print(\"Z is Greatest\")   "
      ],
      "execution_count": null,
      "outputs": [
        {
          "output_type": "stream",
          "text": [
            "Enter First Number20\n",
            "Enter Second Number10\n",
            "Enter Third Number15\n",
            "X is Greatest\n"
          ],
          "name": "stdout"
        }
      ]
    },
    {
      "cell_type": "markdown",
      "metadata": {
        "id": "ijR-2OowNaHh",
        "colab_type": "text"
      },
      "source": [
        "2.\tWrite a Python program to reverse a string."
      ]
    },
    {
      "cell_type": "code",
      "metadata": {
        "id": "wALBgkIdNF0i",
        "colab_type": "code",
        "colab": {}
      },
      "source": [
        "def reverse(s): \n",
        "  str = \"\" \n",
        "  for i in s: \n",
        "    str = i + str\n",
        "  return str"
      ],
      "execution_count": null,
      "outputs": []
    },
    {
      "cell_type": "code",
      "metadata": {
        "id": "QiG5OpAPNKvP",
        "colab_type": "code",
        "colab": {
          "base_uri": "https://localhost:8080/",
          "height": 50
        },
        "outputId": "cc070cb6-0788-4538-8b63-3d9a27d0e766"
      },
      "source": [
        "s = \"malayalam\"\n",
        "  \n",
        "print (\"The original string  is : \",end=\"\") \n",
        "print (s) \n",
        "  \n",
        "print (\"The reversed string(using loops) is : \",end=\"\") \n",
        "print (reverse(s)) "
      ],
      "execution_count": null,
      "outputs": [
        {
          "output_type": "stream",
          "text": [
            "The original string  is : malayalam\n",
            "The reversed string(using loops) is : malayalam\n"
          ],
          "name": "stdout"
        }
      ]
    },
    {
      "cell_type": "markdown",
      "metadata": {
        "id": "d5iibIntNh72",
        "colab_type": "text"
      },
      "source": [
        "3.\tWrite a Python function to check whether the number is prime or not"
      ]
    },
    {
      "cell_type": "code",
      "metadata": {
        "id": "cwdknQxbdfpQ",
        "colab_type": "code",
        "colab": {
          "base_uri": "https://localhost:8080/",
          "height": 50
        },
        "outputId": "9032ddd7-5bca-4bf1-a9cc-2b3be077cee0"
      },
      "source": [
        "num = int(input(\"Enter a number: \"))  \n",
        "  \n",
        "if num > 1:  \n",
        "   for i in range(2,num):  \n",
        "       if (num % i) == 0:  \n",
        "           print(num,\"is not a prime number\")  \n",
        "           print(i,\"times\",num//i,\"is\",num)  \n",
        "           break  \n",
        "   else:  \n",
        "       print(num,\"is a prime number\")  \n",
        "         \n",
        "else:  \n",
        "   print(num,\"is not a prime number\")"
      ],
      "execution_count": null,
      "outputs": [
        {
          "output_type": "stream",
          "text": [
            "Enter a number: 19\n",
            "is a prime number 19\n"
          ],
          "name": "stdout"
        }
      ]
    },
    {
      "cell_type": "markdown",
      "metadata": {
        "id": "wjmJUOCagbvg",
        "colab_type": "text"
      },
      "source": [
        ""
      ]
    },
    {
      "cell_type": "code",
      "metadata": {
        "id": "UnTvcViTNkVO",
        "colab_type": "code",
        "colab": {}
      },
      "source": [
        "def squaresum(n) : \n",
        "  sm = 0\n",
        "  for i in range(1, n+1) : \n",
        "   sm=sm+(i * i) \n",
        "  return sm"
      ],
      "execution_count": null,
      "outputs": []
    },
    {
      "cell_type": "code",
      "metadata": {
        "id": "0h53dy6_hfmf",
        "colab_type": "code",
        "colab": {
          "base_uri": "https://localhost:8080/",
          "height": 50
        },
        "outputId": "db12708e-2af9-49e6-8c25-039b075dea38"
      },
      "source": [
        "n=int(input(\"Enter the NUmber\"))\n",
        "print(\"The Square is\",squaresum(n))"
      ],
      "execution_count": null,
      "outputs": [
        {
          "output_type": "stream",
          "text": [
            "Enter the NUmber3\n",
            "The Square is 14\n"
          ],
          "name": "stdout"
        }
      ]
    }
  ]
}