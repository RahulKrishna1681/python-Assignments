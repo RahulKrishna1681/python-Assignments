{
  "nbformat": 4,
  "nbformat_minor": 0,
  "metadata": {
    "colab": {
      "name": "Python Assignment3",
      "provenance": [],
      "collapsed_sections": [],
      "authorship_tag": "ABX9TyN+KjueSpoRHchVDDwXKg7a",
      "include_colab_link": true
    },
    "kernelspec": {
      "name": "python3",
      "display_name": "Python 3"
    }
  },
  "cells": [
    {
      "cell_type": "markdown",
      "metadata": {
        "id": "view-in-github",
        "colab_type": "text"
      },
      "source": [
        "<a href=\"https://colab.research.google.com/github/RahulKrishna1681/python-Assignments/blob/master/Python_Assignment3.ipynb\" target=\"_parent\"><img src=\"https://colab.research.google.com/assets/colab-badge.svg\" alt=\"Open In Colab\"/></a>"
      ]
    },
    {
      "cell_type": "markdown",
      "metadata": {
        "id": "TiMB9E7TQxqL",
        "colab_type": "text"
      },
      "source": [
        "1.\tTake two inputs from user and check whether they are equal or not.\n"
      ]
    },
    {
      "cell_type": "code",
      "metadata": {
        "id": "ia88hDm0Qm_D",
        "colab_type": "code",
        "colab": {
          "base_uri": "https://localhost:8080/",
          "height": 67
        },
        "outputId": "febbf1d7-dbf2-489c-acd8-f30ec13615e8"
      },
      "source": [
        "x=int(input('Enter First Number'))\n",
        "y=int(input('Enter Second Number'))\n",
        "if x==y:\n",
        "  print(\"Theyre Same\")\n",
        "else:\n",
        "  print(\"Theyre Not Same\")"
      ],
      "execution_count": null,
      "outputs": [
        {
          "output_type": "stream",
          "text": [
            "Enter First Number10\n",
            "Enter Second Number10\n",
            "Theyre Same\n"
          ],
          "name": "stdout"
        }
      ]
    },
    {
      "cell_type": "markdown",
      "metadata": {
        "id": "DwuWsS-PRkz5",
        "colab_type": "text"
      },
      "source": [
        "2.\tTake 3 inputs from user and check :\n",
        "           all are equal\n",
        "           any of two are equal\n",
        "           ( use and or )\n"
      ]
    },
    {
      "cell_type": "code",
      "metadata": {
        "id": "RpCgxivsRZe-",
        "colab_type": "code",
        "colab": {
          "base_uri": "https://localhost:8080/",
          "height": 101
        },
        "outputId": "c0995a59-f5d1-4316-c8b9-0a2d13a0f60c"
      },
      "source": [
        "x=int(input('Enter the First Number'))\n",
        "y=int(input('Enter the Second Number'))\n",
        "z=int(input('Enter the Third number'))\n",
        "all= x==y and y==z and z==x\n",
        "print(\"All are equal:\",all)\n",
        "anytwo= x==y or y==z or z==x\n",
        "print(\"Any of three are equal:\",anytwo)"
      ],
      "execution_count": null,
      "outputs": [
        {
          "output_type": "stream",
          "text": [
            "Enter the First Number10\n",
            "Enter the Second Number10\n",
            "Enter the Third number10\n",
            "All are equal: True\n",
            "Any of three are equal: True\n"
          ],
          "name": "stdout"
        }
      ]
    },
    {
      "cell_type": "markdown",
      "metadata": {
        "id": "WsIc28COT0nk",
        "colab_type": "text"
      },
      "source": [
        "3.\tTake two number and check whether the sum is greater than 5, less than 5 or equal to 5."
      ]
    },
    {
      "cell_type": "code",
      "metadata": {
        "id": "7YSCESEESvwM",
        "colab_type": "code",
        "colab": {
          "base_uri": "https://localhost:8080/",
          "height": 67
        },
        "outputId": "2f9b2738-805f-478a-fea8-c69387c01fae"
      },
      "source": [
        "x=int(input('Enter First Number'))\n",
        "y=int(input('Enter Second Number'))\n",
        "z=x+y\n",
        "if z>5:\n",
        " print(\"Sum Is Greater Than 5\")\n",
        "elif z<5:\n",
        "  print(\"Sum Is less than 5\")\n",
        "else:\n",
        "  print(\"Sum Is Equal To 5\")"
      ],
      "execution_count": null,
      "outputs": [
        {
          "output_type": "stream",
          "text": [
            "Enter First Number2\n",
            "Enter Second Number3\n",
            "Sum Is Equal To 5\n"
          ],
          "name": "stdout"
        }
      ]
    },
    {
      "cell_type": "markdown",
      "metadata": {
        "id": "dn8LryNUWFHk",
        "colab_type": "text"
      },
      "source": [
        "4.\tSuppose passing marks of a subject is 35. Take input of marks from user and check whether it is greater than passing marks or not."
      ]
    },
    {
      "cell_type": "code",
      "metadata": {
        "id": "vGLtsVzMSwcz",
        "colab_type": "code",
        "colab": {
          "base_uri": "https://localhost:8080/",
          "height": 50
        },
        "outputId": "9f9db6e9-4454-4b55-94f1-c1a9610ded81"
      },
      "source": [
        "m=int(input('Enter Youre Marks'))\n",
        "if m>35:\n",
        "  print(\"You have passed\")\n",
        "else:\n",
        "    print(\"you have failed\")"
      ],
      "execution_count": null,
      "outputs": [
        {
          "output_type": "stream",
          "text": [
            "Enter Youre Marks45\n",
            "You have passed\n"
          ],
          "name": "stdout"
        }
      ]
    },
    {
      "cell_type": "markdown",
      "metadata": {
        "id": "Gt7y19A8Z3tm",
        "colab_type": "text"
      },
      "source": [
        "5.\tWrite a Python function to find the Max of three numbers"
      ]
    },
    {
      "cell_type": "code",
      "metadata": {
        "id": "6WPS6sYXZ45U",
        "colab_type": "code",
        "colab": {
          "base_uri": "https://localhost:8080/",
          "height": 84
        },
        "outputId": "92b6c730-fdf7-4841-d7c9-78c7ffb0f23d"
      },
      "source": [
        "x=int(input('Enter First Number'))\n",
        "y=int(input('Enter Second Number'))\n",
        "z=int(input('Enter Third Number'))\n",
        "if x>y:\n",
        "  if x>z:\n",
        "    print(\"X is Greatest\")\n",
        "  else:\n",
        "    print(\"Z is Greatest\")\n",
        "elif y>x:\n",
        "  if y>z:\n",
        "    print(\"Y is Greatest\")\n",
        "  else:\n",
        "    print(\"Z is Greatest\")   "
      ],
      "execution_count": null,
      "outputs": [
        {
          "output_type": "stream",
          "text": [
            "Enter First Number20\n",
            "Enter Second Number10\n",
            "Enter Third Number15\n",
            "X is Greatest\n"
          ],
          "name": "stdout"
        }
      ]
    },
    {
      "cell_type": "code",
      "metadata": {
        "id": "pm6jAeAfMwkz",
        "colab_type": "code",
        "colab": {}
      },
      "source": [
        ""
      ],
      "execution_count": null,
      "outputs": []
    }
  ]
}