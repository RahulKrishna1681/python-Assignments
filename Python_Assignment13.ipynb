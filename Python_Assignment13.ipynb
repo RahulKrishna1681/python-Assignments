{
  "nbformat": 4,
  "nbformat_minor": 0,
  "metadata": {
    "colab": {
      "name": "Python_Assignment13",
      "provenance": [],
      "authorship_tag": "ABX9TyPbqsbtCxAehXhN+kSaS7d4",
      "include_colab_link": true
    },
    "kernelspec": {
      "name": "python3",
      "display_name": "Python 3"
    }
  },
  "cells": [
    {
      "cell_type": "markdown",
      "metadata": {
        "id": "view-in-github",
        "colab_type": "text"
      },
      "source": [
        "<a href=\"https://colab.research.google.com/github/RahulKrishna1681/python-Assignments/blob/master/Python_Assignment13.ipynb\" target=\"_parent\"><img src=\"https://colab.research.google.com/assets/colab-badge.svg\" alt=\"Open In Colab\"/></a>"
      ]
    },
    {
      "cell_type": "markdown",
      "metadata": {
        "id": "7SmhLM0cusyt",
        "colab_type": "text"
      },
      "source": [
        "\n",
        "1.What is a dictionary in Python? Explain with an example.\n",
        "It is an unordered sequence data structure. Dictionaries are denoted by curly braces { }. It is a collection of various key:value pairs."
      ]
    },
    {
      "cell_type": "code",
      "metadata": {
        "id": "67y2RDo5ujLj",
        "colab_type": "code",
        "colab": {
          "base_uri": "https://localhost:8080/",
          "height": 34
        },
        "outputId": "602d4186-403e-4546-a402-851028c140dd"
      },
      "source": [
        "dict1 = {\"one\":1,\"two\":2,\"three\":3}\n",
        "print(\"Dictionary:\",dict1)"
      ],
      "execution_count": 1,
      "outputs": [
        {
          "output_type": "stream",
          "text": [
            "Dictionary: {'one': 1, 'two': 2, 'three': 3}\n"
          ],
          "name": "stdout"
        }
      ]
    },
    {
      "cell_type": "markdown",
      "metadata": {
        "id": "XxIhAoMnutDK",
        "colab_type": "text"
      },
      "source": [
        "\n",
        "2.Program to sum all the items in a list."
      ]
    },
    {
      "cell_type": "code",
      "metadata": {
        "id": "Pn61jJawutVL",
        "colab_type": "code",
        "colab": {
          "base_uri": "https://localhost:8080/",
          "height": 34
        },
        "outputId": "e8e161e3-152e-4c36-e9dd-31bb3e10030b"
      },
      "source": [
        "def sum_list(list1):\n",
        "  sum = 0\n",
        "  for item in list1:\n",
        "    sum = sum + item\n",
        "  print(\"Sum of all the items in the given list is:\",sum)\n",
        "sum_list([1,2,3,4,5,6,7,8,9,10])"
      ],
      "execution_count": 3,
      "outputs": [
        {
          "output_type": "stream",
          "text": [
            "Sum of all the items in the given list is: 55\n"
          ],
          "name": "stdout"
        }
      ]
    },
    {
      "cell_type": "markdown",
      "metadata": {
        "id": "VZw1_22Ezmrk",
        "colab_type": "text"
      },
      "source": [
        "\n",
        "3.Program to create a list of empty dictionaries."
      ]
    },
    {
      "cell_type": "code",
      "metadata": {
        "id": "ULW7ssCrzotg",
        "colab_type": "code",
        "colab": {
          "base_uri": "https://localhost:8080/",
          "height": 51
        },
        "outputId": "6e188547-d0bf-4db6-ce67-3eaecf89e379"
      },
      "source": [
        "n = int(input(\"Enter number of empty dictionaries: \"))\n",
        "eptdict = {}\n",
        "eptlist = [eptdict] * n\n",
        "print(\"List of\",n,\"empty dictionaries:\",eptlist)"
      ],
      "execution_count": 4,
      "outputs": [
        {
          "output_type": "stream",
          "text": [
            "Enter number of empty dictionaries: 10\n",
            "List of 10 empty dictionaries: [{}, {}, {}, {}, {}, {}, {}, {}, {}, {}]\n"
          ],
          "name": "stdout"
        }
      ]
    },
    {
      "cell_type": "markdown",
      "metadata": {
        "id": "yBB4StiZz3C4",
        "colab_type": "text"
      },
      "source": [
        "4.\n",
        "Program to access dictionary keys element by index."
      ]
    },
    {
      "cell_type": "code",
      "metadata": {
        "id": "HlAnnKAcz5Ry",
        "colab_type": "code",
        "colab": {
          "base_uri": "https://localhost:8080/",
          "height": 153
        },
        "outputId": "fa7714bf-a4f2-48d2-8bfb-a7adf4bd5489"
      },
      "source": [
        "dict1 = {\"Violet\":1, \"Indigo\":2, \"Blue\":3, \"Green\":4, \"Yellow\":5, \"Orange\":6,\"Red\":6}\n",
        "print(\"Given dictionary:\",dict1)\n",
        "list1 = list(dict1)\n",
        "index = 0\n",
        "for item in list1:\n",
        "  print(\"Index \",index,\"has:\",list1[index])\n",
        "  index = index + 1"
      ],
      "execution_count": 8,
      "outputs": [
        {
          "output_type": "stream",
          "text": [
            "Given dictionary: {'Violet': 1, 'Indigo': 2, 'Blue': 3, 'Green': 4, 'Yellow': 5, 'Orange': 6, 'Red': 6}\n",
            "Index  0 has: Violet\n",
            "Index  1 has: Indigo\n",
            "Index  2 has: Blue\n",
            "Index  3 has: Green\n",
            "Index  4 has: Yellow\n",
            "Index  5 has: Orange\n",
            "Index  6 has: Red\n"
          ],
          "name": "stdout"
        }
      ]
    },
    {
      "cell_type": "markdown",
      "metadata": {
        "id": "_RpXIMtEz_uo",
        "colab_type": "text"
      },
      "source": [
        "5.Program to iterate over dictionaries using for loops."
      ]
    },
    {
      "cell_type": "code",
      "metadata": {
        "id": "qZUyrAas0B6I",
        "colab_type": "code",
        "colab": {
          "base_uri": "https://localhost:8080/",
          "height": 443
        },
        "outputId": "6036342b-06fb-4182-8833-bf5a7c2e501f"
      },
      "source": [
        "dict1 = {\"Violet\":1, \"Indigo\":2, \"Blue\":3, \"Green\":4, \"Yellow\":5, \"Orange\":6,\"Red\":6}\n",
        "print(\"Given dictionary:\",dict1)\n",
        "print(\"Keys present in the given dictionary:\")\n",
        "for item in dict1:\n",
        "  print(item)\n",
        "\n",
        "print(\"Values present in the given dictionary:\")\n",
        "for item in dict1.values():\n",
        "  print(item)\n",
        "\n",
        "print(\"Key:Value pairs in the given dictionary:\")\n",
        "for (k,v) in dict1.items():\n",
        "  print(k,\":\",v)"
      ],
      "execution_count": 9,
      "outputs": [
        {
          "output_type": "stream",
          "text": [
            "Given dictionary: {'Violet': 1, 'Indigo': 2, 'Blue': 3, 'Green': 4, 'Yellow': 5, 'Orange': 6, 'Red': 6}\n",
            "Keys present in the given dictionary:\n",
            "Violet\n",
            "Indigo\n",
            "Blue\n",
            "Green\n",
            "Yellow\n",
            "Orange\n",
            "Red\n",
            "Values present in the given dictionary:\n",
            "1\n",
            "2\n",
            "3\n",
            "4\n",
            "5\n",
            "6\n",
            "6\n",
            "Key:Value pairs in the given dictionary:\n",
            "Violet : 1\n",
            "Indigo : 2\n",
            "Blue : 3\n",
            "Green : 4\n",
            "Yellow : 5\n",
            "Orange : 6\n",
            "Red : 6\n"
          ],
          "name": "stdout"
        }
      ]
    },
    {
      "cell_type": "markdown",
      "metadata": {
        "id": "SGPVR4620Fio",
        "colab_type": "text"
      },
      "source": [
        "6.\n",
        "Program to sum all the items in a given dictionary."
      ]
    },
    {
      "cell_type": "code",
      "metadata": {
        "id": "HSD13CFM0HsD",
        "colab_type": "code",
        "colab": {
          "base_uri": "https://localhost:8080/",
          "height": 68
        },
        "outputId": "1a5d0130-54a2-488f-ff8b-36ab45b3555b"
      },
      "source": [
        "dict1 = {1:100, 2:200, 3:300, 4:400, 5:500}\n",
        "print(\"Given dictionary:\",dict1)\n",
        "sum=0\n",
        "for value in dict1.values():\n",
        "  sum = sum + value\n",
        "print(\"Sum of all the values in the given dictionary:\",sum)\n",
        "\n",
        "for key in dict1.keys():\n",
        "  sum = sum + key\n",
        "print(\"Sum of all keys in the given dictionary:\",sum)"
      ],
      "execution_count": 6,
      "outputs": [
        {
          "output_type": "stream",
          "text": [
            "Given dictionary: {1: 100, 2: 200, 3: 300, 4: 400, 5: 500}\n",
            "Sum of all the values in the given dictionary: 1500\n",
            "Sum of all keys in the given dictionary: 1515\n"
          ],
          "name": "stdout"
        }
      ]
    },
    {
      "cell_type": "markdown",
      "metadata": {
        "id": "NJglio0r0ufA",
        "colab_type": "text"
      },
      "source": [
        "7.\n",
        "Program to cocncatenate the following dictionaries and create a new one.\n",
        "\n",
        "dict1 = {1:10, 2:20}\n",
        "dict2 = {3:30, 4:40}\n",
        "dict3 = {5:50, 6:60}\n",
        "Expected Result: {1:10, 2:20, 3:30, 4:40, 5:50, 6:60}"
      ]
    },
    {
      "cell_type": "code",
      "metadata": {
        "id": "M03SNzAq0v9Z",
        "colab_type": "code",
        "colab": {
          "base_uri": "https://localhost:8080/",
          "height": 34
        },
        "outputId": "c1e4bb62-2d73-4427-ea9e-2476a8665af0"
      },
      "source": [
        "dict1 = {1:10, 2:20}\n",
        "dict2 = {3:30, 4:40}\n",
        "dict3 = {5:50, 6:60}\n",
        "dict2.update(dict3)\n",
        "dict1.update(dict2)\n",
        "print(\"Final result:\",dict1)"
      ],
      "execution_count": 11,
      "outputs": [
        {
          "output_type": "stream",
          "text": [
            "Final result: {1: 10, 2: 20, 3: 30, 4: 40, 5: 50, 6: 60}\n"
          ],
          "name": "stdout"
        }
      ]
    }
  ]
}