{
  "nbformat": 4,
  "nbformat_minor": 0,
  "metadata": {
    "colab": {
      "name": "pythonassignment_11",
      "provenance": [],
      "authorship_tag": "ABX9TyM7FelxViOwuR7IxN3+eSac",
      "include_colab_link": true
    },
    "kernelspec": {
      "name": "python3",
      "display_name": "Python 3"
    }
  },
  "cells": [
    {
      "cell_type": "markdown",
      "metadata": {
        "id": "view-in-github",
        "colab_type": "text"
      },
      "source": [
        "<a href=\"https://colab.research.google.com/github/RahulKrishna1681/python-Assignments/blob/master/pythonassignment_11.ipynb\" target=\"_parent\"><img src=\"https://colab.research.google.com/assets/colab-badge.svg\" alt=\"Open In Colab\"/></a>"
      ]
    },
    {
      "cell_type": "markdown",
      "metadata": {
        "id": "mGW3NlLL941c",
        "colab_type": "text"
      },
      "source": [
        "1.\n",
        "Program to read an entire file."
      ]
    },
    {
      "cell_type": "code",
      "metadata": {
        "id": "j7xse_C99aep",
        "colab_type": "code",
        "colab": {}
      },
      "source": [
        "f=open(\"assignment11.txt\")\n",
        "content=f.read()\n",
        "print(\"Content present in the file assignment.txt is\\n\",content)"
      ],
      "execution_count": null,
      "outputs": []
    },
    {
      "cell_type": "markdown",
      "metadata": {
        "id": "yjkxmXdv95Gc",
        "colab_type": "text"
      },
      "source": [
        "2.\n",
        "Program to read the first n lines of a file."
      ]
    },
    {
      "cell_type": "code",
      "metadata": {
        "id": "95x-D-en95by",
        "colab_type": "code",
        "colab": {}
      },
      "source": [
        "\n",
        "f=open(\"assignment.txt\",\"r\")\n",
        "n=int(input(\"Enter the number of lines you want to read: \"))\n",
        "print(\"The content present in the first\",n,\"lines present in the file is\\n:\")\n",
        "for i in range(n):\n",
        "    line=f.readline()\n",
        "    print(line)"
      ],
      "execution_count": null,
      "outputs": []
    },
    {
      "cell_type": "markdown",
      "metadata": {
        "id": "OAPY6TCm95zs",
        "colab_type": "text"
      },
      "source": [
        "3.\n",
        "Program to append text to a file and display it."
      ]
    },
    {
      "cell_type": "code",
      "metadata": {
        "id": "WuzSUeJJ9_Eu",
        "colab_type": "code",
        "colab": {}
      },
      "source": [
        "f=open(\"assignment.txt\",\"a\")\n",
        "content=\"\"\"\\nI can even say goodbye in four languages.\n",
        "Adios! (Spanish)\n",
        "Addio! (Italian)\n",
        "Tschus! (German)\n",
        "Au Revoir! (French)\"\"\"\n",
        "f.write(content)\n",
        "f.close()"
      ],
      "execution_count": null,
      "outputs": []
    },
    {
      "cell_type": "markdown",
      "metadata": {
        "id": "xXxjm-dl-CCl",
        "colab_type": "text"
      },
      "source": [
        "4.\n",
        "Program to read last n lines of a file.\n"
      ]
    },
    {
      "cell_type": "code",
      "metadata": {
        "id": "b4CJQl0A9_kJ",
        "colab_type": "code",
        "colab": {}
      },
      "source": [
        "\n",
        "f=open(\"assignment.txt\",\"r\")\n",
        "n=int(input(\"Enter the value of n to print the last lines: \"))\n",
        "last=f.readlines() [-n:]\n",
        "for line in last:\n",
        "    print(line, end ='')"
      ],
      "execution_count": null,
      "outputs": []
    },
    {
      "cell_type": "markdown",
      "metadata": {
        "id": "jhTKG5v9-Cd7",
        "colab_type": "text"
      },
      "source": [
        "\n",
        "5.Program to read a file line by line and store it in a variable."
      ]
    },
    {
      "cell_type": "code",
      "metadata": {
        "id": "p2keM1PP-ArM",
        "colab_type": "code",
        "colab": {}
      },
      "source": [
        "def read_file(name):\n",
        "        with open (name, \"r\") as myfile:\n",
        "                content=myfile.readlines()\n",
        "                print(content)\n",
        "read_file('assignment.txt')"
      ],
      "execution_count": null,
      "outputs": []
    },
    {
      "cell_type": "markdown",
      "metadata": {
        "id": "1suhf9wR-C5i",
        "colab_type": "text"
      },
      "source": [
        "\n",
        "6.Program to read a file line by line and store it in a list."
      ]
    },
    {
      "cell_type": "code",
      "metadata": {
        "id": "8_kvHJcS_FAr",
        "colab_type": "code",
        "colab": {}
      },
      "source": [
        "def read_file(name): content = [] with open(name) as f:\n",
        "for lines in f: content=list(f.readlines()) print(content)\n",
        "\n",
        "read_file('assignment.txt')"
      ],
      "execution_count": null,
      "outputs": []
    },
    {
      "cell_type": "markdown",
      "metadata": {
        "id": "9a_Xlas0-pC8",
        "colab_type": "text"
      },
      "source": [
        "7.\n",
        "Program to read a file line by line and store it in an array."
      ]
    },
    {
      "cell_type": "code",
      "metadata": {
        "id": "HFU8WaZT-A5d",
        "colab_type": "code",
        "colab": {}
      },
      "source": [
        "def read(name):\n",
        "        content = []\n",
        "        with open(name) as f:  \n",
        "                for line in f:\n",
        "                        content.append(line)\n",
        "                print(content)\n",
        "\n",
        "read('assignment.txt')"
      ],
      "execution_count": null,
      "outputs": []
    },
    {
      "cell_type": "markdown",
      "metadata": {
        "id": "8rql4dec-vRp",
        "colab_type": "text"
      },
      "source": [
        "\n",
        "8.Program to count the number of lines in a file."
      ]
    },
    {
      "cell_type": "code",
      "metadata": {
        "id": "dSCtdTli-BGr",
        "colab_type": "code",
        "colab": {}
      },
      "source": [
        "\n",
        "f=open(\"assignment.txt\",\"r\")\n",
        "count=0\n",
        "content=f.read()\n",
        "file_list=content.split(\"\\n\")\n",
        "\n",
        "for line in file_list:\n",
        "    if i:\n",
        "        count+=1\n",
        "print(\"Number of lines in the given list:\",count)"
      ],
      "execution_count": null,
      "outputs": []
    },
    {
      "cell_type": "markdown",
      "metadata": {
        "id": "GGhNEJ9f-0sa",
        "colab_type": "text"
      },
      "source": [
        "9.Program to get the full size of a plain file."
      ]
    },
    {
      "cell_type": "code",
      "metadata": {
        "id": "UHS5kdoy-BQc",
        "colab_type": "code",
        "colab": {}
      },
      "source": [
        "\n",
        "def size(f):\n",
        "        import os\n",
        "        statinfo = os.stat(f)\n",
        "        return statinfo.st_size\n",
        "size_file=size(\"assignment.txt\")\n",
        "print(\"File size in bytes of a plain file:\",size_file)"
      ],
      "execution_count": null,
      "outputs": []
    },
    {
      "cell_type": "markdown",
      "metadata": {
        "id": "hhRj2QI6-1CZ",
        "colab_type": "text"
      },
      "source": [
        "\n",
        "10.Program to copy the content of one file to another.\n"
      ]
    },
    {
      "cell_type": "code",
      "metadata": {
        "id": "0QZ7XGF3-BYq",
        "colab_type": "code",
        "colab": {}
      },
      "source": [
        "\n",
        "with open(\"assignment.txt\") as f:\n",
        "    with open(\"out.txt\", \"w\") as f1:\n",
        "        for line in f:\n",
        "            f1.write(line)"
      ],
      "execution_count": null,
      "outputs": []
    }
  ]
}