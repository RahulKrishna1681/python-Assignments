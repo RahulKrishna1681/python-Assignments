{
  "nbformat": 4,
  "nbformat_minor": 0,
  "metadata": {
    "colab": {
      "name": "pythonAssignment5",
      "provenance": [],
      "authorship_tag": "ABX9TyPotqi3Cl3Scfu3E+fc+a7Q",
      "include_colab_link": true
    },
    "kernelspec": {
      "name": "python3",
      "display_name": "Python 3"
    }
  },
  "cells": [
    {
      "cell_type": "markdown",
      "metadata": {
        "id": "view-in-github",
        "colab_type": "text"
      },
      "source": [
        "<a href=\"https://colab.research.google.com/github/RahulKrishna1681/python-Assignments/blob/master/pythonAssignment5.ipynb\" target=\"_parent\"><img src=\"https://colab.research.google.com/assets/colab-badge.svg\" alt=\"Open In Colab\"/></a>"
      ]
    },
    {
      "cell_type": "markdown",
      "metadata": {
        "id": "w77GTAUQA_eZ",
        "colab_type": "text"
      },
      "source": [
        "1.\tWrite a Python program to find area of a circle using math function."
      ]
    },
    {
      "cell_type": "code",
      "metadata": {
        "id": "MhVz18n-Av_m",
        "colab_type": "code",
        "colab": {
          "base_uri": "https://localhost:8080/",
          "height": 50
        },
        "outputId": "d056bcc3-d451-4df1-90e1-3907f1e8e42f"
      },
      "source": [
        "from math import pi\n",
        "r = float(input (\"Input the radius of the circle : \"))\n",
        "print (\"The area of the circle with radius \" + str(r) + \" is: \" + str(pi * r**2))\n"
      ],
      "execution_count": 7,
      "outputs": [
        {
          "output_type": "stream",
          "text": [
            "Input the radius of the circle : 10\n",
            "The area of the circle with radius 10.0 is: 314.1592653589793\n"
          ],
          "name": "stdout"
        }
      ]
    },
    {
      "cell_type": "markdown",
      "metadata": {
        "id": "I_jLc4duA_Pm",
        "colab_type": "text"
      },
      "source": [
        "2.\tWrite a program to find Area of Regular Polygon using math function."
      ]
    },
    {
      "cell_type": "code",
      "metadata": {
        "id": "IB3Y8gUNAv1R",
        "colab_type": "code",
        "colab": {
          "base_uri": "https://localhost:8080/",
          "height": 67
        },
        "outputId": "161787d1-4a49-4b63-a01a-e62f95009753"
      },
      "source": [
        "from math import tan, pi\n",
        "n = int(input(\"Input number of sides: \"))\n",
        "side = float(input(\"Input the length of a side: \"))\n",
        "area = n * (side ** 2) / (4 * tan(pi / n))\n",
        "print(\"The area of the polygon is: \",area)\n"
      ],
      "execution_count": 8,
      "outputs": [
        {
          "output_type": "stream",
          "text": [
            "Input number of sides: 4\n",
            "Input the length of a side: 10\n",
            "The area of the polygon is:  100.00000000000001\n"
          ],
          "name": "stdout"
        }
      ]
    },
    {
      "cell_type": "markdown",
      "metadata": {
        "id": "4s11_FqqA_BW",
        "colab_type": "text"
      },
      "source": [
        "3.\tWrite a program to find  Area of a Segment of a Circle Formula using math function."
      ]
    },
    {
      "cell_type": "code",
      "metadata": {
        "id": "ZdmDw8CQAvsI",
        "colab_type": "code",
        "colab": {
          "base_uri": "https://localhost:8080/",
          "height": 67
        },
        "outputId": "6e359da0-aad6-4045-8da1-7786ee52bbf0"
      },
      "source": [
        "import math\n",
        "  \n",
        "pi = 3.14 \n",
        "def area_of_segment(radius, angle): \n",
        "    area_of_sector = pi * (radius * radius) * (angle / 360) \n",
        "   \n",
        "    area_of_triangle = 1 / 2 * (radius * radius) *math.sin((angle * pi) / 180) \n",
        "  \n",
        "    return area_of_sector - area_of_triangle; \n",
        "   \n",
        "radius = int(input(\"Enter the radius of cu=ircle:-\"))\n",
        "angle = 90.0\n",
        "print(\"Area of minor segment =\", \n",
        "       area_of_segment(radius, angle)) \n",
        "print(\"Area of major segment =\", \n",
        "      area_of_segment(radius, (360 - angle))) \n"
      ],
      "execution_count": 6,
      "outputs": [
        {
          "output_type": "stream",
          "text": [
            "Enter the radius of cu=ircle:-10\n",
            "Area of minor segment = 28.50001585340827\n",
            "Area of major segment = 285.4998573193859\n"
          ],
          "name": "stdout"
        }
      ]
    },
    {
      "cell_type": "markdown",
      "metadata": {
        "id": "84OwCaWWA-rP",
        "colab_type": "text"
      },
      "source": [
        "4.\tWrite a python program to shuffle list l1=[100,1,2,3,30,40,”hai”,”hello”]."
      ]
    },
    {
      "cell_type": "code",
      "metadata": {
        "id": "eHYJz9j2Avou",
        "colab_type": "code",
        "colab": {
          "base_uri": "https://localhost:8080/",
          "height": 34
        },
        "outputId": "03b86f2c-e65a-4dab-a894-633cb0b3d036"
      },
      "source": [
        "from random import shuffle\n",
        "l1=[100,1,2,3,30,40,\"hai\",\"hello\"]\n",
        "shuffle(l1)\n",
        "print(l1)\n"
      ],
      "execution_count": 15,
      "outputs": [
        {
          "output_type": "stream",
          "text": [
            "[30, 2, 'hello', 'hai', 1, 100, 3, 40]\n"
          ],
          "name": "stdout"
        }
      ]
    },
    {
      "cell_type": "markdown",
      "metadata": {
        "id": "K-1IJ1wUA9qI",
        "colab_type": "text"
      },
      "source": [
        "5.\tWrite a program to generate random numbers between 1,10000 and difference between each random number is 50."
      ]
    },
    {
      "cell_type": "code",
      "metadata": {
        "id": "jtKcttonAvjH",
        "colab_type": "code",
        "colab": {
          "base_uri": "https://localhost:8080/",
          "height": 34
        },
        "outputId": "195a3efb-118a-488d-9b66-e0f881abb136"
      },
      "source": [
        "import random\n",
        "print(random.randrange(1, 10000, 50))\n"
      ],
      "execution_count": 4,
      "outputs": [
        {
          "output_type": "stream",
          "text": [
            "3901\n"
          ],
          "name": "stdout"
        }
      ]
    },
    {
      "cell_type": "markdown",
      "metadata": {
        "id": "aNcCcejrA6O2",
        "colab_type": "text"
      },
      "source": [
        "6.\tWrite a python program by using math module to find"
      ]
    },
    {
      "cell_type": "code",
      "metadata": {
        "id": "MOU5xYoYApAk",
        "colab_type": "code",
        "colab": {
          "base_uri": "https://localhost:8080/",
          "height": 386
        },
        "outputId": "a6d6990a-cac9-4fc0-8a27-7cbb251dbdf7"
      },
      "source": [
        "import math\n",
        "print(\"The value of sin(60) = {}\\n\".format(math.sin(math.pi/3)))\n",
        "\n",
        "print(\"The value of cos(pi) = {}\\n\".format(math.cos(math.pi)))\n",
        "\n",
        "print(\"The value of tan(90) = {}\\n\".format(math.tan(math.pi/2)))\n",
        "\n",
        "print(\"The value of angle of sin(0.8660254037844386) = {}\\n\".format(math.asin(0.866025403784438)))\n",
        "\n",
        "print(\"The value of 5^8 = {}\\n\".format(pow(5,8)))\n",
        "\n",
        "print(\"The value of square root of 400= {}\\n\".format(math.sqrt(400)))\n",
        "\n",
        "print(\"The value of 5^e = {}\\n\".format(pow(5,2.71828)))\n",
        "\n",
        "print(\"The value of log(1024) at base 2 = {}\\n\".format(math.log2(1024)))\n",
        "\n",
        "print(\"The value of log(1024) at base 10 = {}\\n\".format(math.log10(1024)))\n",
        "\n",
        "print(\"The floor value of 23.56 = {}\\n\".format(math.floor(23.56)))\n",
        "\n",
        "print(\"The ceil value of 23.56 = {}\\n\".format(math.ceil(23.56)))\n"
      ],
      "execution_count": 1,
      "outputs": [
        {
          "output_type": "stream",
          "text": [
            "The value of sin(60) = 0.8660254037844386\n",
            "\n",
            "The value of cos(pi) = -1.0\n",
            "\n",
            "The value of tan(90) = 1.633123935319537e+16\n",
            "\n",
            "The value of angle of sin(0.8660254037844386) = 1.0471975511965965\n",
            "\n",
            "The value of 5^8 = 390625\n",
            "\n",
            "The value of square root of 400= 20.0\n",
            "\n",
            "The value of 5^e = 79.432125413701\n",
            "\n",
            "The value of log(1024) at base 2 = 10.0\n",
            "\n",
            "The value of log(1024) at base 10 = 3.010299956639812\n",
            "\n",
            "The floor value of 23.56 = 23\n",
            "\n",
            "The ceil value of 23.56 = 24\n",
            "\n"
          ],
          "name": "stdout"
        }
      ]
    }
  ]
}
