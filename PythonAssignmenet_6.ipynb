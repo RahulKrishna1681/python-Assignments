{
  "nbformat": 4,
  "nbformat_minor": 0,
  "metadata": {
    "colab": {
      "name": "PythonAssignmenet_6",
      "provenance": [],
      "authorship_tag": "ABX9TyMvNXKTSft3rMxOEaACBLCp",
      "include_colab_link": true
    },
    "kernelspec": {
      "name": "python3",
      "display_name": "Python 3"
    }
  },
  "cells": [
    {
      "cell_type": "markdown",
      "metadata": {
        "id": "view-in-github",
        "colab_type": "text"
      },
      "source": [
        "<a href=\"https://colab.research.google.com/github/RahulKrishna1681/python-Assignments/blob/master/PythonAssignmenet_6.ipynb\" target=\"_parent\"><img src=\"https://colab.research.google.com/assets/colab-badge.svg\" alt=\"Open In Colab\"/></a>"
      ]
    },
    {
      "cell_type": "markdown",
      "metadata": {
        "id": "kMgREABakQRg",
        "colab_type": "text"
      },
      "source": [
        "1.Convert Binary to Decimal\n"
      ]
    },
    {
      "cell_type": "code",
      "metadata": {
        "id": "Dta6cjfUkB94",
        "colab_type": "code",
        "colab": {
          "base_uri": "https://localhost:8080/",
          "height": 50
        },
        "outputId": "2d12eabb-1df3-446b-8401-64df069a6be3"
      },
      "source": [
        "num=int(input(\"Enter the binary number: \"))\n",
        "decimal=0\n",
        "base=1\n",
        "temp=num\n",
        "\n",
        "while temp!=0:\n",
        "    last=temp%10\n",
        "    temp=int(temp/10)\n",
        "    decimal+=last*base\n",
        "    base=base*2\n",
        "print(\"The decimal form is\",decimal)"
      ],
      "execution_count": null,
      "outputs": [
        {
          "output_type": "stream",
          "text": [
            "Enter the binary number: 1111\n",
            "The decimal form is 15\n"
          ],
          "name": "stdout"
        }
      ]
    },
    {
      "cell_type": "markdown",
      "metadata": {
        "id": "98MYgM46kivi",
        "colab_type": "text"
      },
      "source": [
        "\n",
        "2. Generate first n Fibonacci series."
      ]
    },
    {
      "cell_type": "code",
      "metadata": {
        "id": "K1cNNbbYkjdM",
        "colab_type": "code",
        "colab": {
          "base_uri": "https://localhost:8080/",
          "height": 218
        },
        "outputId": "9b9cb008-12fa-46ff-bd6b-2371eb71ca48"
      },
      "source": [
        "n= int(input(\"Enter the value of n: \"))\n",
        "n1=0\n",
        "n2 =1 \n",
        "count=0\n",
        "print(\"Fibonacci Sequence until\",n,\"terms is: \")\n",
        "while count<n:\n",
        "    print(n1)\n",
        "    n3=n1+n2\n",
        "    n1=n2\n",
        "    n2=n3\n",
        "    count+=1"
      ],
      "execution_count": null,
      "outputs": [
        {
          "output_type": "stream",
          "text": [
            "Enter the value of n: 10\n",
            "Fibonacci Sequence until 10 terms is: \n",
            "0\n",
            "1\n",
            "1\n",
            "2\n",
            "3\n",
            "5\n",
            "8\n",
            "13\n",
            "21\n",
            "34\n"
          ],
          "name": "stdout"
        }
      ]
    },
    {
      "cell_type": "markdown",
      "metadata": {
        "id": "5CljTVUNkjt7",
        "colab_type": "text"
      },
      "source": [
        "\n",
        "3. Display multiplication table of k. Take k value from user."
      ]
    },
    {
      "cell_type": "code",
      "metadata": {
        "id": "5uuilcrDkkCM",
        "colab_type": "code",
        "colab": {
          "base_uri": "https://localhost:8080/",
          "height": 218
        },
        "outputId": "bdce6aa5-08a1-4695-c23d-a48467a25d7f"
      },
      "source": [
        "k=int(input(\"Enter a number to print the multiplication table: \"))\n",
        "print(\"Multiplication table:\")\n",
        "for i in range(1,11):\n",
        "    print(k,\"*\",i,\"=\",k*i)"
      ],
      "execution_count": null,
      "outputs": [
        {
          "output_type": "stream",
          "text": [
            "Enter a number to print the multiplication table: 4\n",
            "Multiplication table:\n",
            "4 * 1 = 4\n",
            "4 * 2 = 8\n",
            "4 * 3 = 12\n",
            "4 * 4 = 16\n",
            "4 * 5 = 20\n",
            "4 * 6 = 24\n",
            "4 * 7 = 28\n",
            "4 * 8 = 32\n",
            "4 * 9 = 36\n",
            "4 * 10 = 40\n"
          ],
          "name": "stdout"
        }
      ]
    },
    {
      "cell_type": "markdown",
      "metadata": {
        "id": "ROp2VJtmkkcL",
        "colab_type": "text"
      },
      "source": [
        "\n",
        "4. Take 10 integers from keyboard using loop and print their average value on the screen Print the following patterns using loop:\n",
        "\n",
        " * \n",
        " ** \n",
        " *** \n",
        " **** "
      ]
    },
    {
      "cell_type": "code",
      "metadata": {
        "id": "jn7uaZcDkksM",
        "colab_type": "code",
        "colab": {
          "base_uri": "https://localhost:8080/",
          "height": 185
        },
        "outputId": "c2420b14-111c-420a-e851-41d3ff1ad565"
      },
      "source": [
        "\n",
        "for num in range(1,11):\n",
        "    num= int(input(\"Enter a value: \"))"
      ],
      "execution_count": null,
      "outputs": [
        {
          "output_type": "stream",
          "text": [
            "Enter a value: 3\n",
            "Enter a value: 1\n",
            "Enter a value: 2\n",
            "Enter a value: 4\n",
            "Enter a value: 8\n",
            "Enter a value: 5\n",
            "Enter a value: 3\n",
            "Enter a value: 9\n",
            "Enter a value: 10\n",
            "Enter a value: 0\n"
          ],
          "name": "stdout"
        }
      ]
    },
    {
      "cell_type": "code",
      "metadata": {
        "id": "i7cWnpsBk8iN",
        "colab_type": "code",
        "colab": {
          "base_uri": "https://localhost:8080/",
          "height": 84
        },
        "outputId": "a6ad1f1f-81dc-4b1c-df79-c88cfa609c95"
      },
      "source": [
        "rows = 4\n",
        "for row in range(1, rows+1):\n",
        "    for column in range(1, row + 1):\n",
        "        print(\"*\", end=\"\")\n",
        "    print(\"\")"
      ],
      "execution_count": null,
      "outputs": [
        {
          "output_type": "stream",
          "text": [
            "*\n",
            "**\n",
            "***\n",
            "****\n"
          ],
          "name": "stdout"
        }
      ]
    },
    {
      "cell_type": "markdown",
      "metadata": {
        "id": "tXNTKs_xkk_L",
        "colab_type": "text"
      },
      "source": [
        "5. Program to find the GCD of two numbers."
      ]
    },
    {
      "cell_type": "code",
      "metadata": {
        "id": "Qzg0rAqYklUT",
        "colab_type": "code",
        "colab": {
          "base_uri": "https://localhost:8080/",
          "height": 67
        },
        "outputId": "aea765ff-0f70-42b3-a095-a830288f5cc8"
      },
      "source": [
        "import math\n",
        "n1= int(input(\"Enter First number:\"))\n",
        "n2= int(input(\"Enter second number:\"))\n",
        "print(math.gcd(n1,n2),\"is the GCD of\",n1,\"and\",n2)"
      ],
      "execution_count": null,
      "outputs": [
        {
          "output_type": "stream",
          "text": [
            "Enter First number:10\n",
            "Enter second number:20\n",
            "10 is the GCD of 10 and 20\n"
          ],
          "name": "stdout"
        }
      ]
    },
    {
      "cell_type": "markdown",
      "metadata": {
        "id": "DxuCL7oaklik",
        "colab_type": "text"
      },
      "source": [
        "6. Program that accepts a word from the user and reverses it."
      ]
    },
    {
      "cell_type": "code",
      "metadata": {
        "id": "gqsrINuwkl0T",
        "colab_type": "code",
        "colab": {
          "base_uri": "https://localhost:8080/",
          "height": 50
        },
        "outputId": "54d78759-e340-4192-9e25-a5bbefa56174"
      },
      "source": [
        "word=input(\"Enter a word: \")\n",
        "rev= word[::-1]\n",
        "print(\"Reverse of\",word,\"is\",rev)"
      ],
      "execution_count": null,
      "outputs": [
        {
          "output_type": "stream",
          "text": [
            "Enter a word: malayalam\n",
            "Reverse of malayalam is malayalam\n"
          ],
          "name": "stdout"
        }
      ]
    },
    {
      "cell_type": "markdown",
      "metadata": {
        "id": "YfZSgCEnkmLc",
        "colab_type": "text"
      },
      "source": [
        "7. Program to count the number of even and odd numbers from a series of numbers."
      ]
    },
    {
      "cell_type": "code",
      "metadata": {
        "id": "niMxtZKMkmbl",
        "colab_type": "code",
        "colab": {
          "base_uri": "https://localhost:8080/",
          "height": 84
        },
        "outputId": "c8a55d95-17ed-4029-eb31-bc8573c60879"
      },
      "source": [
        "start=int(input(\"Enter the starting number: \"))\n",
        "end=int(input(\"Enter the ending number:\"))\n",
        "count_even=0\n",
        "count_odd=0\n",
        "for num in range(start,end+1):\n",
        "    if num%2==0:\n",
        "        count_even+=1\n",
        "    else:\n",
        "        count_odd+=1\n",
        "print(\"The number of even numbers:\",count_even)\n",
        "print(\"The number of odd numbers\",count_odd)"
      ],
      "execution_count": null,
      "outputs": [
        {
          "output_type": "stream",
          "text": [
            "Enter the starting number: 0\n",
            "Enter the ending number:100\n",
            "The number of even numbers: 51\n",
            "The number of odd numbers 50\n"
          ],
          "name": "stdout"
        }
      ]
    },
    {
      "cell_type": "markdown",
      "metadata": {
        "id": "sz1SF92Jkmuk",
        "colab_type": "text"
      },
      "source": [
        "\n",
        "8. Program that prints all numbers from 0 to 6 except 3 and 6."
      ]
    },
    {
      "cell_type": "code",
      "metadata": {
        "id": "HEOjscfnknAb",
        "colab_type": "code",
        "colab": {
          "base_uri": "https://localhost:8080/",
          "height": 101
        },
        "outputId": "e067570a-a263-4b58-c6ee-7705b9b62940"
      },
      "source": [
        "for num in range(0,6):\n",
        "    if num==3:\n",
        "        continue\n",
        "    print(num)"
      ],
      "execution_count": null,
      "outputs": [
        {
          "output_type": "stream",
          "text": [
            "0\n",
            "1\n",
            "2\n",
            "4\n",
            "5\n"
          ],
          "name": "stdout"
        }
      ]
    }
  ]
}