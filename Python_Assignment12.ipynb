{
  "nbformat": 4,
  "nbformat_minor": 0,
  "metadata": {
    "colab": {
      "name": "Python Assignment12",
      "provenance": [],
      "authorship_tag": "ABX9TyOh+M1XaEJaNBvyH3Wgg1tq",
      "include_colab_link": true
    },
    "kernelspec": {
      "name": "python3",
      "display_name": "Python 3"
    }
  },
  "cells": [
    {
      "cell_type": "markdown",
      "metadata": {
        "id": "view-in-github",
        "colab_type": "text"
      },
      "source": [
        "<a href=\"https://colab.research.google.com/github/RahulKrishna1681/python-Assignments/blob/master/Python_Assignment12.ipynb\" target=\"_parent\"><img src=\"https://colab.research.google.com/assets/colab-badge.svg\" alt=\"Open In Colab\"/></a>"
      ]
    },
    {
      "cell_type": "markdown",
      "metadata": {
        "id": "z98ecM_yLQwl",
        "colab_type": "text"
      },
      "source": [
        "1.\n",
        "Program to create a tuple."
      ]
    },
    {
      "cell_type": "code",
      "metadata": {
        "id": "YpTEtt3zK0Xm",
        "colab_type": "code",
        "colab": {
          "base_uri": "https://localhost:8080/",
          "height": 34
        },
        "outputId": "29cbfaec-bc78-47bb-a2eb-7650be0930df"
      },
      "source": [
        "t1=(1,2,3,4,5)\n",
        "print(t1, type(t1))"
      ],
      "execution_count": 1,
      "outputs": [
        {
          "output_type": "stream",
          "text": [
            "(1, 2, 3, 4, 5) <class 'tuple'>\n"
          ],
          "name": "stdout"
        }
      ]
    },
    {
      "cell_type": "markdown",
      "metadata": {
        "id": "Kl0AEh3cLZ9Z",
        "colab_type": "text"
      },
      "source": [
        "2.Program to create a tuple with different data types."
      ]
    },
    {
      "cell_type": "code",
      "metadata": {
        "id": "TfrlriEwLceR",
        "colab_type": "code",
        "colab": {
          "base_uri": "https://localhost:8080/",
          "height": 34
        },
        "outputId": "27d6eb7a-82a0-451b-feba-b57086d45289"
      },
      "source": [
        "t1 = (1,2.5,\"Rahul\",[\"Hello\",\"Good Day\"])\n",
        "print(t1, type(t1))"
      ],
      "execution_count": 11,
      "outputs": [
        {
          "output_type": "stream",
          "text": [
            "(1, 2.5, 'Rahul', ['Hello', 'Good Day']) <class 'tuple'>\n"
          ],
          "name": "stdout"
        }
      ]
    },
    {
      "cell_type": "markdown",
      "metadata": {
        "id": "jEWEsF4eLgWV",
        "colab_type": "text"
      },
      "source": [
        "3.\n",
        "Program to convert a tuple into a string."
      ]
    },
    {
      "cell_type": "code",
      "metadata": {
        "id": "hjomDuc0Lfsy",
        "colab_type": "code",
        "colab": {
          "base_uri": "https://localhost:8080/",
          "height": 34
        },
        "outputId": "fb8a333c-4dac-4c1c-d8fb-25b722e27a37"
      },
      "source": [
        "t1 = (\"G\",\"i\",\"t\",\"a\",\"m\")\n",
        "str = \"\".join(t1)\n",
        "print(\"Tuple converted string:\",str)"
      ],
      "execution_count": 12,
      "outputs": [
        {
          "output_type": "stream",
          "text": [
            "Tuple converted string: Gitam\n"
          ],
          "name": "stdout"
        }
      ]
    },
    {
      "cell_type": "markdown",
      "metadata": {
        "id": "X_ny9l27L7Dh",
        "colab_type": "text"
      },
      "source": [
        "4.\n",
        "Program to slice a tuple."
      ]
    },
    {
      "cell_type": "code",
      "metadata": {
        "id": "hCkqXvVhL_CZ",
        "colab_type": "code",
        "colab": {
          "base_uri": "https://localhost:8080/",
          "height": 34
        },
        "outputId": "c6a7aa9c-01e9-4e07-9845-216d42b0c412"
      },
      "source": [
        "t1 = (1,2,3,4,5,6,7,8,9,10)\n",
        "slice=(t1[4:8])\n",
        "print(\"Sliced tuple:\",slice)"
      ],
      "execution_count": 14,
      "outputs": [
        {
          "output_type": "stream",
          "text": [
            "Sliced tuple: (5, 6, 7, 8)\n"
          ],
          "name": "stdout"
        }
      ]
    },
    {
      "cell_type": "markdown",
      "metadata": {
        "id": "MprEHz-uMEgh",
        "colab_type": "text"
      },
      "source": [
        "5.\n",
        "Program to find the length of a tuple."
      ]
    },
    {
      "cell_type": "code",
      "metadata": {
        "id": "xygYD8xAMDrZ",
        "colab_type": "code",
        "colab": {
          "base_uri": "https://localhost:8080/",
          "height": 34
        },
        "outputId": "ceec29aa-8b58-459d-e237-ab6eae9ec3ca"
      },
      "source": [
        "t1 = (1,2,3,4,5,6,7,8)\n",
        "print(\"Length of the tuple:\",len(t1))"
      ],
      "execution_count": 15,
      "outputs": [
        {
          "output_type": "stream",
          "text": [
            "Length of the tuple: 8\n"
          ],
          "name": "stdout"
        }
      ]
    },
    {
      "cell_type": "markdown",
      "metadata": {
        "id": "is3QpRz3MKCa",
        "colab_type": "text"
      },
      "source": [
        "\n",
        "6.Program to convert a tuple into a dictionary."
      ]
    },
    {
      "cell_type": "code",
      "metadata": {
        "id": "Xrb3hSthMDlB",
        "colab_type": "code",
        "colab": {
          "base_uri": "https://localhost:8080/",
          "height": 34
        },
        "outputId": "c877c13a-a00f-483d-9a6f-526179ddfc77"
      },
      "source": [
        "t1 = ((\"one\",1),(\"two\",2),(\"three\",3),(\"four\",4),(\"five\",5))\n",
        "converted_dict = dict(t1)\n",
        "print(\"Converted Dictionary:\",converted_dict)"
      ],
      "execution_count": 10,
      "outputs": [
        {
          "output_type": "stream",
          "text": [
            "Converted Dictionary: {'one': 1, 'two': 2, 'three': 3, 'four': 4, 'five': 5}\n"
          ],
          "name": "stdout"
        }
      ]
    },
    {
      "cell_type": "markdown",
      "metadata": {
        "id": "mD50XQt3MK_a",
        "colab_type": "text"
      },
      "source": [
        "7.\n",
        "Program to reverse a tuple."
      ]
    },
    {
      "cell_type": "code",
      "metadata": {
        "id": "MCvGqhu4MBzJ",
        "colab_type": "code",
        "colab": {
          "base_uri": "https://localhost:8080/",
          "height": 34
        },
        "outputId": "c963864b-44ad-44f3-fbc2-7043547c4e46"
      },
      "source": [
        "t1 = (1,2,3,4,5,6,7,8)\n",
        "print(\"Reversed Tuple:\",t1[::-1])"
      ],
      "execution_count": 16,
      "outputs": [
        {
          "output_type": "stream",
          "text": [
            "Reversed Tuple: (8, 7, 6, 5, 4, 3, 2, 1)\n"
          ],
          "name": "stdout"
        }
      ]
    },
    {
      "cell_type": "markdown",
      "metadata": {
        "id": "uVtZxuQRMLoA",
        "colab_type": "text"
      },
      "source": [
        "8.\n",
        "Program to convert a list of tuples into a dictionary."
      ]
    },
    {
      "cell_type": "code",
      "metadata": {
        "id": "Et5TcvvAMBux",
        "colab_type": "code",
        "colab": {
          "base_uri": "https://localhost:8080/",
          "height": 34
        },
        "outputId": "8f42782c-9cc4-4ff5-a939-b4d9b7909296"
      },
      "source": [
        "mylist = [(\"one\",1),(\"two\",2),(\"three\",3),(\"four\",4)]\n",
        "dict_converted = dict(mylist)\n",
        "print(\"Dictionary converted list:\",dict_converted)"
      ],
      "execution_count": 8,
      "outputs": [
        {
          "output_type": "stream",
          "text": [
            "Dictionary converted list: {'one': 1, 'two': 2, 'three': 3, 'four': 4}\n"
          ],
          "name": "stdout"
        }
      ]
    },
    {
      "cell_type": "markdown",
      "metadata": {
        "id": "oYOkirT4MMH5",
        "colab_type": "text"
      },
      "source": [
        "9.Program to convert a list of tuples into a tuple."
      ]
    },
    {
      "cell_type": "code",
      "metadata": {
        "id": "_P2Cs3tyMBSy",
        "colab_type": "code",
        "colab": {
          "base_uri": "https://localhost:8080/",
          "height": 34
        },
        "outputId": "c8997df4-abee-45d4-8ecb-6753a2142e5d"
      },
      "source": [
        "mylist = [\"Hello\",\"Hey\",\"Hi\"]\n",
        "print(\"Tuple converted list:\",tuple(mylist))"
      ],
      "execution_count": 17,
      "outputs": [
        {
          "output_type": "stream",
          "text": [
            "Tuple converted list: ('Hello', 'Hey', 'Hi')\n"
          ],
          "name": "stdout"
        }
      ]
    }
  ]
}