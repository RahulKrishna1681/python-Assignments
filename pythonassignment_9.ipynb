{
  "nbformat": 4,
  "nbformat_minor": 0,
  "metadata": {
    "colab": {
      "name": "pythonassignment_9",
      "provenance": [],
      "authorship_tag": "ABX9TyOW4lUIKVv8vW+t6HrbuztM",
      "include_colab_link": true
    },
    "kernelspec": {
      "name": "python3",
      "display_name": "Python 3"
    }
  },
  "cells": [
    {
      "cell_type": "markdown",
      "metadata": {
        "id": "view-in-github",
        "colab_type": "text"
      },
      "source": [
        "<a href=\"https://colab.research.google.com/github/RahulKrishna1681/python-Assignments/blob/master/pythonassignment_9.ipynb\" target=\"_parent\"><img src=\"https://colab.research.google.com/assets/colab-badge.svg\" alt=\"Open In Colab\"/></a>"
      ]
    },
    {
      "cell_type": "markdown",
      "metadata": {
        "id": "B5K9viWY3Hol",
        "colab_type": "text"
      },
      "source": [
        "\n",
        "1. Program that prints integers from 1 to 100. But for multiples of 3, print 'Fizz' instead of the number and for the multiples of 5, print 'Buzz'. For numbers which are multiples of both 3 and 5, print 'FizzBuzz'."
      ]
    },
    {
      "cell_type": "code",
      "metadata": {
        "id": "vx1ffdE6bQui",
        "colab_type": "code",
        "colab": {
          "base_uri": "https://localhost:8080/",
          "height": 1000
        },
        "outputId": "33ce141c-e165-4a74-ba1f-af236b4ac728"
      },
      "source": [
        "for i in range(1,101):\n",
        "    if i%3==0 and i%5==0:\n",
        "        i=\"FizzBuzz\"\n",
        "        print(i)\n",
        "    elif i%5==0:\n",
        "        i=\"Buzz\"\n",
        "        print(i)\n",
        "    elif i%3==0:\n",
        "        i=\"Fizz\"\n",
        "        print(i)\n",
        "    else:\n",
        "        print(i)"
      ],
      "execution_count": 1,
      "outputs": [
        {
          "output_type": "stream",
          "text": [
            "1\n",
            "2\n",
            "Fizz\n",
            "4\n",
            "Buzz\n",
            "Fizz\n",
            "7\n",
            "8\n",
            "Fizz\n",
            "Buzz\n",
            "11\n",
            "Fizz\n",
            "13\n",
            "14\n",
            "FizzBuzz\n",
            "16\n",
            "17\n",
            "Fizz\n",
            "19\n",
            "Buzz\n",
            "Fizz\n",
            "22\n",
            "23\n",
            "Fizz\n",
            "Buzz\n",
            "26\n",
            "Fizz\n",
            "28\n",
            "29\n",
            "FizzBuzz\n",
            "31\n",
            "32\n",
            "Fizz\n",
            "34\n",
            "Buzz\n",
            "Fizz\n",
            "37\n",
            "38\n",
            "Fizz\n",
            "Buzz\n",
            "41\n",
            "Fizz\n",
            "43\n",
            "44\n",
            "FizzBuzz\n",
            "46\n",
            "47\n",
            "Fizz\n",
            "49\n",
            "Buzz\n",
            "Fizz\n",
            "52\n",
            "53\n",
            "Fizz\n",
            "Buzz\n",
            "56\n",
            "Fizz\n",
            "58\n",
            "59\n",
            "FizzBuzz\n",
            "61\n",
            "62\n",
            "Fizz\n",
            "64\n",
            "Buzz\n",
            "Fizz\n",
            "67\n",
            "68\n",
            "Fizz\n",
            "Buzz\n",
            "71\n",
            "Fizz\n",
            "73\n",
            "74\n",
            "FizzBuzz\n",
            "76\n",
            "77\n",
            "Fizz\n",
            "79\n",
            "Buzz\n",
            "Fizz\n",
            "82\n",
            "83\n",
            "Fizz\n",
            "Buzz\n",
            "86\n",
            "Fizz\n",
            "88\n",
            "89\n",
            "FizzBuzz\n",
            "91\n",
            "92\n",
            "Fizz\n",
            "94\n",
            "Buzz\n",
            "Fizz\n",
            "97\n",
            "98\n",
            "Fizz\n",
            "Buzz\n"
          ],
          "name": "stdout"
        }
      ]
    },
    {
      "cell_type": "markdown",
      "metadata": {
        "id": "hQ3KUb-53MuD",
        "colab_type": "text"
      },
      "source": [
        "\n",
        "2. Program to remove consecutive duplicates from a list."
      ]
    },
    {
      "cell_type": "code",
      "metadata": {
        "id": "I9TYJUAq3M_b",
        "colab_type": "code",
        "colab": {
          "base_uri": "https://localhost:8080/",
          "height": 67
        },
        "outputId": "2818d1bf-62d6-472c-906e-5ee32149a02c"
      },
      "source": [
        "mylist=[1,2,2,3,3,4,4,4,5,5,5,5,5,5,5]\n",
        "pre=None\n",
        "newlist=[]\n",
        "\n",
        "for item in mylist:\n",
        "    if item!=pre:\n",
        "        newlist.append(item)\n",
        "        pre=item\n",
        "print(\"The new list:\\n\")\n",
        "print(newlist)"
      ],
      "execution_count": 9,
      "outputs": [
        {
          "output_type": "stream",
          "text": [
            "The new list:\n",
            "\n",
            "[1, 2, 3, 4, 5]\n"
          ],
          "name": "stdout"
        }
      ]
    },
    {
      "cell_type": "markdown",
      "metadata": {
        "id": "UdVFnk-f3NTy",
        "colab_type": "text"
      },
      "source": [
        "\n",
        "3. Find unique elements in a list."
      ]
    },
    {
      "cell_type": "code",
      "metadata": {
        "id": "-fnC3rgO3Nky",
        "colab_type": "code",
        "colab": {
          "base_uri": "https://localhost:8080/",
          "height": 34
        },
        "outputId": "82dccae3-4005-4a02-eca6-7c64bc679b04"
      },
      "source": [
        "mylist=[1,2,2,3,3,4,4,4,5,5,5,5,5,5,5]\n",
        "newlist=set(mylist)\n",
        "print(list(newlist))"
      ],
      "execution_count": 10,
      "outputs": [
        {
          "output_type": "stream",
          "text": [
            "[1, 2, 3, 4, 5]\n"
          ],
          "name": "stdout"
        }
      ]
    },
    {
      "cell_type": "markdown",
      "metadata": {
        "id": "zXQa87xa3Nyj",
        "colab_type": "text"
      },
      "source": [
        "\n",
        "4. Function that checks if a number is in the given range or not (inclusive of high and low)."
      ]
    },
    {
      "cell_type": "code",
      "metadata": {
        "id": "bWoJRRFy3ODa",
        "colab_type": "code",
        "colab": {
          "base_uri": "https://localhost:8080/",
          "height": 34
        },
        "outputId": "80bf03fd-9314-44d1-fba5-4f149ba7b928"
      },
      "source": [
        "def check_range(num,start,stop):\n",
        "    if num in range(start,stop+1):\n",
        "        print(num,\"is present in the given range.\")\n",
        "    else:\n",
        "        print(num,\"is not present in the given range.\")\n",
        "check_range(56,1,100)"
      ],
      "execution_count": 4,
      "outputs": [
        {
          "output_type": "stream",
          "text": [
            "56 is present in the given range.\n"
          ],
          "name": "stdout"
        }
      ]
    },
    {
      "cell_type": "markdown",
      "metadata": {
        "id": "jpiqzpjl3OSj",
        "colab_type": "text"
      },
      "source": [
        "\n",
        "5. Function that accepts a string and calculates the number of uppercase and lowercase characters."
      ]
    },
    {
      "cell_type": "code",
      "metadata": {
        "id": "tT4fGM5n3OkC",
        "colab_type": "code",
        "colab": {
          "base_uri": "https://localhost:8080/",
          "height": 50
        },
        "outputId": "83af1fc0-f1b5-4e45-8833-d6ecb4fb7197"
      },
      "source": [
        "def char_case(string):\n",
        "    lowercase,uppercase,special=0,0,0\n",
        "    for char in string:\n",
        "        if char.isupper():\n",
        "            uppercase+=1\n",
        "        elif char.islower():\n",
        "            lowercase+=1\n",
        "    print(\"Number of uppercase characters=\",uppercase)\n",
        "    print(\"Number of lowercase characters=\",lowercase)\n",
        "char_case(\"Finally Promoted\")"
      ],
      "execution_count": 12,
      "outputs": [
        {
          "output_type": "stream",
          "text": [
            "Number of uppercase characters= 2\n",
            "Number of lowercase characters= 13\n"
          ],
          "name": "stdout"
        }
      ]
    }
  ]
}