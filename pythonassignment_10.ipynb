{
  "nbformat": 4,
  "nbformat_minor": 0,
  "metadata": {
    "colab": {
      "name": "pythonassignment_10",
      "provenance": [],
      "authorship_tag": "ABX9TyPFBkCGEjJjIAV0QRrBmqMz",
      "include_colab_link": true
    },
    "kernelspec": {
      "name": "python3",
      "display_name": "Python 3"
    }
  },
  "cells": [
    {
      "cell_type": "markdown",
      "metadata": {
        "id": "view-in-github",
        "colab_type": "text"
      },
      "source": [
        "<a href=\"https://colab.research.google.com/github/RahulKrishna1681/python-Assignments/blob/master/pythonassignment_10.ipynb\" target=\"_parent\"><img src=\"https://colab.research.google.com/assets/colab-badge.svg\" alt=\"Open In Colab\"/></a>"
      ]
    },
    {
      "cell_type": "markdown",
      "metadata": {
        "id": "aA5deLFr49CM",
        "colab_type": "text"
      },
      "source": [
        "1.Program to get the largest and smallest number from a list."
      ]
    },
    {
      "cell_type": "code",
      "metadata": {
        "id": "vuBWTYAR47wn",
        "colab_type": "code",
        "colab": {
          "base_uri": "https://localhost:8080/",
          "height": 68
        },
        "outputId": "90fc7d95-029d-467d-d417-31f793f5090f"
      },
      "source": [
        "list = [10,40,60,100,50,70]\n",
        "print(\"The given list is:\",list)\n",
        "print(\"Largest number in the list is\",max(list))\n",
        "print(\"Smallest number in the list:\",min(list))"
      ],
      "execution_count": 10,
      "outputs": [
        {
          "output_type": "stream",
          "text": [
            "The given list is: [10, 40, 60, 100, 50, 70]\n",
            "Largest number in the list is 100\n",
            "Smallest number in the list: 10\n"
          ],
          "name": "stdout"
        }
      ]
    },
    {
      "cell_type": "markdown",
      "metadata": {
        "id": "pvT1SrXT49Yb",
        "colab_type": "text"
      },
      "source": [
        "\n",
        "2.Program to remove duplicate elements from a list."
      ]
    },
    {
      "cell_type": "code",
      "metadata": {
        "id": "SXWBtgwB49nr",
        "colab_type": "code",
        "colab": {
          "base_uri": "https://localhost:8080/",
          "height": 34
        },
        "outputId": "e9aae173-8cd7-425d-ce98-35da1ece2fde"
      },
      "source": [
        "list1 = [1,2,2,3,3,3,4,4,4,4,5,5,5]\n",
        "list2 = []\n",
        "\n",
        "for item in list1:\n",
        "    if item not in list2:\n",
        "        list2.append(item)\n",
        "print(\"New list:\",list2)"
      ],
      "execution_count": 11,
      "outputs": [
        {
          "output_type": "stream",
          "text": [
            "New list: [1, 2, 3, 4, 5]\n"
          ],
          "name": "stdout"
        }
      ]
    },
    {
      "cell_type": "markdown",
      "metadata": {
        "id": "6IW5zMLw4-Dj",
        "colab_type": "text"
      },
      "source": [
        "\n",
        "3.Program to check if the list is empty or not."
      ]
    },
    {
      "cell_type": "code",
      "metadata": {
        "id": "6syTS_FQ4-WC",
        "colab_type": "code",
        "colab": {
          "base_uri": "https://localhost:8080/",
          "height": 51
        },
        "outputId": "6084e71f-3170-40e0-91be-f1a3aebe6d7f"
      },
      "source": [
        "list1 = [1,2,3,4,5,6]\n",
        "list2 = []\n",
        "if list1 == []:\n",
        "    print(\"True\")\n",
        "else:\n",
        "    print(\"False\")\n",
        "    \n",
        "if list2!=[]:\n",
        "    print(\"False\")\n",
        "else:\n",
        "    print(\"True\")"
      ],
      "execution_count": 12,
      "outputs": [
        {
          "output_type": "stream",
          "text": [
            "False\n",
            "True\n"
          ],
          "name": "stdout"
        }
      ]
    },
    {
      "cell_type": "markdown",
      "metadata": {
        "id": "O2-S3LDW4-ua",
        "colab_type": "text"
      },
      "source": [
        "\n",
        "4.Program to clone or copy a list."
      ]
    },
    {
      "cell_type": "code",
      "metadata": {
        "id": "zBJgaB3-4_Ar",
        "colab_type": "code",
        "colab": {
          "base_uri": "https://localhost:8080/",
          "height": 51
        },
        "outputId": "9d8900c3-67d4-44e7-fbb0-cb8b85478145"
      },
      "source": [
        "list1=[1,2,3,4,5,6]\n",
        "print(\"Original list:\",list1)\n",
        "list2 = list1.copy()\n",
        "print(\"Copied list:\",list2)"
      ],
      "execution_count": 15,
      "outputs": [
        {
          "output_type": "stream",
          "text": [
            "Original list: [1, 2, 3, 4, 5, 6]\n",
            "Copied list: [1, 2, 3, 4, 5, 6]\n"
          ],
          "name": "stdout"
        }
      ]
    },
    {
      "cell_type": "markdown",
      "metadata": {
        "id": "T-uoXy7b5Okz",
        "colab_type": "text"
      },
      "source": [
        "\n",
        "5.Program to print a specified list after removing the 0th, 4th and 5th elements."
      ]
    },
    {
      "cell_type": "code",
      "metadata": {
        "id": "qHLUm_Zc5PYC",
        "colab_type": "code",
        "colab": {
          "base_uri": "https://localhost:8080/",
          "height": 34
        },
        "outputId": "c64498af-eba6-4249-9db3-3db48e543c3e"
      },
      "source": [
        "list1 = [\"Ramesh\",\"Suresh,\",\"Mahesh\",\"Kamlesh\",\"Mukesh\",\"Bhavesh\"]\n",
        "list1.remove(\"Ramesh\")\n",
        "list1.remove(\"Mukesh\")\n",
        "list1.remove(\"Bhavesh\")\n",
        "print(\"New list:\",list1)"
      ],
      "execution_count": 16,
      "outputs": [
        {
          "output_type": "stream",
          "text": [
            "New list: ['Suresh,', 'Mahesh', 'Kamlesh']\n"
          ],
          "name": "stdout"
        }
      ]
    },
    {
      "cell_type": "markdown",
      "metadata": {
        "id": "xvG5g02h5SIp",
        "colab_type": "text"
      },
      "source": [
        "\n",
        "6.Program to print the numbers of a specified list after removing even numbers from it."
      ]
    },
    {
      "cell_type": "code",
      "metadata": {
        "id": "X-ptrSKL5T4e",
        "colab_type": "code",
        "colab": {
          "base_uri": "https://localhost:8080/",
          "height": 34
        },
        "outputId": "ae744218-4921-47b9-983b-b27a4126f0f7"
      },
      "source": [
        "list1=[1,2,3,4,5,6]\n",
        "for item in list1:\n",
        "    if item%2==0:\n",
        "        list1.remove(item)\n",
        "print(list1)"
      ],
      "execution_count": 18,
      "outputs": [
        {
          "output_type": "stream",
          "text": [
            "[1, 3, 5]\n"
          ],
          "name": "stdout"
        }
      ]
    },
    {
      "cell_type": "markdown",
      "metadata": {
        "id": "kCLuXakv5W6T",
        "colab_type": "text"
      },
      "source": [
        "7.Program to shuffle and print a list."
      ]
    },
    {
      "cell_type": "code",
      "metadata": {
        "id": "5Uv2HFGv5Wmh",
        "colab_type": "code",
        "colab": {
          "base_uri": "https://localhost:8080/",
          "height": 34
        },
        "outputId": "6d189525-0ecf-43cf-f44e-a5b1771481ed"
      },
      "source": [
        "from random import shuffle\n",
        "list1 = [1,2,3,4,5,6]\n",
        "shuffle(list1)\n",
        "print(\"New list:\",list1)"
      ],
      "execution_count": 21,
      "outputs": [
        {
          "output_type": "stream",
          "text": [
            "New list: [2, 1, 6, 5, 4, 3]\n"
          ],
          "name": "stdout"
        }
      ]
    },
    {
      "cell_type": "markdown",
      "metadata": {
        "id": "RUhdDLHH5aR5",
        "colab_type": "text"
      },
      "source": [
        "8.Program to find the difference between two lists."
      ]
    },
    {
      "cell_type": "code",
      "metadata": {
        "id": "AK3GKm8G5cIr",
        "colab_type": "code",
        "colab": {
          "base_uri": "https://localhost:8080/",
          "height": 34
        },
        "outputId": "c6647e49-5078-409b-e2b7-9d1a4bc394c6"
      },
      "source": [
        "list1 = [1,2,3,4,5]\n",
        "list2 = [2,4]\n",
        "list3 = []\n",
        "for item in list1:\n",
        "    if item not in list2:\n",
        "        list3.append(item)\n",
        "print(list3,\"is the difference between given two lists.\")"
      ],
      "execution_count": 22,
      "outputs": [
        {
          "output_type": "stream",
          "text": [
            "[1, 3, 5] is the difference between given two lists.\n"
          ],
          "name": "stdout"
        }
      ]
    }
  ]
}