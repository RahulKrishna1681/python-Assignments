{
  "nbformat": 4,
  "nbformat_minor": 0,
  "metadata": {
    "colab": {
      "name": "pythonAssignment_7",
      "provenance": [],
      "authorship_tag": "ABX9TyPtLq23SMXTjoGXIAvXxFt0",
      "include_colab_link": true
    },
    "kernelspec": {
      "name": "python3",
      "display_name": "Python 3"
    }
  },
  "cells": [
    {
      "cell_type": "markdown",
      "metadata": {
        "id": "view-in-github",
        "colab_type": "text"
      },
      "source": [
        "<a href=\"https://colab.research.google.com/github/RahulKrishna1681/python-Assignments/blob/master/pythonAssignment_7.ipynb\" target=\"_parent\"><img src=\"https://colab.research.google.com/assets/colab-badge.svg\" alt=\"Open In Colab\"/></a>"
      ]
    },
    {
      "cell_type": "markdown",
      "metadata": {
        "id": "0yG30QIQpO-n",
        "colab_type": "text"
      },
      "source": [
        "\n",
        "1. Program to calculate the length of a string."
      ]
    },
    {
      "cell_type": "code",
      "metadata": {
        "id": "xox7M4O5pIXH",
        "colab_type": "code",
        "colab": {
          "base_uri": "https://localhost:8080/",
          "height": 50
        },
        "outputId": "afe32ec5-1636-4b29-873d-f61615a4c4b8"
      },
      "source": [
        "string=input(\"Enter a string: \")\n",
        "len=len(string)\n",
        "print(\"The length of\",string,\"is\",len)"
      ],
      "execution_count": 5,
      "outputs": [
        {
          "output_type": "stream",
          "text": [
            "Enter a string: dad\n",
            "The length of dad is 3\n"
          ],
          "name": "stdout"
        }
      ]
    },
    {
      "cell_type": "markdown",
      "metadata": {
        "id": "ENHKZsFSpTL_",
        "colab_type": "text"
      },
      "source": [
        "2. Program to find the character frequency in a string."
      ]
    },
    {
      "cell_type": "code",
      "metadata": {
        "id": "p2Zl6tBBpXVV",
        "colab_type": "code",
        "colab": {
          "base_uri": "https://localhost:8080/",
          "height": 50
        },
        "outputId": "e42047a6-127a-419b-e587-de1fbe844b40"
      },
      "source": [
        "string=input(\"Enter a string: \")\n",
        "freq={}\n",
        "for i in string:\n",
        "    if i in freq:\n",
        "        freq[i]+=1\n",
        "    else:\n",
        "        freq[i]=1\n",
        "print(\"Character frequency\",string,\"is:\",freq)"
      ],
      "execution_count": 4,
      "outputs": [
        {
          "output_type": "stream",
          "text": [
            "Enter a string: dad\n",
            "Character frequency dad is: {'d': 2, 'a': 1}\n"
          ],
          "name": "stdout"
        }
      ]
    },
    {
      "cell_type": "markdown",
      "metadata": {
        "id": "fajq3JTipZQG",
        "colab_type": "text"
      },
      "source": [
        "\n",
        "3. Program to get a single string from two given strings, separated by a space and swap the first character of each string."
      ]
    },
    {
      "cell_type": "code",
      "metadata": {
        "id": "CoMAhsqepY3v",
        "colab_type": "code",
        "colab": {
          "base_uri": "https://localhost:8080/",
          "height": 84
        },
        "outputId": "247996a8-5822-41c1-b5d7-325a8481a642"
      },
      "source": [
        "str1= input(\"Enter the first string: \")\n",
        "str2= input(\"Enter the secnd string: \")\n",
        "str1_swap= str2[:1]+str1[1:]\n",
        "str2_swap= str1[:1]+str2[1:]\n",
        "print(\"First String on Swap\",str1_swap)\n",
        "print(\"Second String on Swap\",str2_swap)"
      ],
      "execution_count": 8,
      "outputs": [
        {
          "output_type": "stream",
          "text": [
            "Enter the first string: dad\n",
            "Enter the secnd string: mom\n",
            "First String on Swap mad\n",
            "Second String on Swap dom\n"
          ],
          "name": "stdout"
        }
      ]
    },
    {
      "cell_type": "markdown",
      "metadata": {
        "id": "sD9RisYKpdLx",
        "colab_type": "text"
      },
      "source": [
        "\n",
        "4. Take input from the user and displays that input back in upper and lower cases."
      ]
    },
    {
      "cell_type": "code",
      "metadata": {
        "id": "xykTnL56pdbP",
        "colab_type": "code",
        "colab": {
          "base_uri": "https://localhost:8080/",
          "height": 67
        },
        "outputId": "391d0f95-c4dd-4c12-a99f-326b329f797d"
      },
      "source": [
        "string= input(\"Enter a string: \")\n",
        "upper=string.upper()\n",
        "lower=string.lower()\n",
        "print(\"The String\",string,\"in upper case is\",upper)\n",
        "print(\"The String\",string,\"in lower case is\",lower)"
      ],
      "execution_count": 11,
      "outputs": [
        {
          "output_type": "stream",
          "text": [
            "Enter a string: rahul\n",
            "The String rahul in upper case is RAHUL\n",
            "The String rahul in lower case is rahul\n"
          ],
          "name": "stdout"
        }
      ]
    },
    {
      "cell_type": "markdown",
      "metadata": {
        "id": "OFAT0SzzphU3",
        "colab_type": "text"
      },
      "source": [
        "\n",
        "5. Program to remove a newline."
      ]
    },
    {
      "cell_type": "code",
      "metadata": {
        "id": "8MrXDok5piwW",
        "colab_type": "code",
        "colab": {
          "base_uri": "https://localhost:8080/",
          "height": 35
        },
        "outputId": "21daf673-3edf-479b-d22f-b5036c0b8981"
      },
      "source": [
        "string= \"rahul\\n\"\n",
        "string.rstrip('\\n')"
      ],
      "execution_count": 13,
      "outputs": [
        {
          "output_type": "execute_result",
          "data": {
            "application/vnd.google.colaboratory.intrinsic": {
              "type": "string"
            },
            "text/plain": [
              "'rahul'"
            ]
          },
          "metadata": {
            "tags": []
          },
          "execution_count": 13
        }
      ]
    },
    {
      "cell_type": "markdown",
      "metadata": {
        "id": "eAAXF1u-ruJX",
        "colab_type": "text"
      },
      "source": [
        "6. Program to count occurrences of a substring in a string."
      ]
    },
    {
      "cell_type": "code",
      "metadata": {
        "id": "mPAU4YX7pnkX",
        "colab_type": "code",
        "colab": {
          "base_uri": "https://localhost:8080/",
          "height": 67
        },
        "outputId": "9acb81fd-a275-4995-a54e-ee96e5dfb971"
      },
      "source": [
        "string= input(\"Enter a string: \")\n",
        "substr= input(\"Enter a substring present: \")\n",
        "string.count(substr)"
      ],
      "execution_count": 15,
      "outputs": [
        {
          "output_type": "stream",
          "text": [
            "Enter a string: python\n",
            "Enter a substring present: on\n"
          ],
          "name": "stdout"
        },
        {
          "output_type": "execute_result",
          "data": {
            "text/plain": [
              "1"
            ]
          },
          "metadata": {
            "tags": []
          },
          "execution_count": 15
        }
      ]
    },
    {
      "cell_type": "markdown",
      "metadata": {
        "id": "hBTTkmAWptmu",
        "colab_type": "text"
      },
      "source": [
        "7. Program to convert a string in a list."
      ]
    },
    {
      "cell_type": "code",
      "metadata": {
        "id": "BumI4Wflpvhu",
        "colab_type": "code",
        "colab": {
          "base_uri": "https://localhost:8080/",
          "height": 50
        },
        "outputId": "1b50cab7-67a8-415b-8c85-686f7df782f5"
      },
      "source": [
        "string=input(\"Enter a string: \")\n",
        "list=list(string)\n",
        "print(\"Converted list is\",list)"
      ],
      "execution_count": 19,
      "outputs": [
        {
          "output_type": "stream",
          "text": [
            "Enter a string: rahul\n",
            "Converted list is ['r', 'a', 'h', 'u', 'l']\n"
          ],
          "name": "stdout"
        }
      ]
    },
    {
      "cell_type": "markdown",
      "metadata": {
        "id": "Ig03xUUUqEHm",
        "colab_type": "text"
      },
      "source": [
        "\n",
        "8. Program to delete a character."
      ]
    },
    {
      "cell_type": "code",
      "metadata": {
        "id": "UD9xbV6lqDvm",
        "colab_type": "code",
        "colab": {
          "base_uri": "https://localhost:8080/",
          "height": 84
        },
        "outputId": "68855743-d148-46ff-8633-5da4c8ae229d"
      },
      "source": [
        "str=input(\"Enter a string: \")\n",
        "char=input(\"Enter the character to delete: \")\n",
        "print(\"The resultant string is\",str.replace(char,\"\"))\n",
        "print(\"The deleted char is\",char,\".\")"
      ],
      "execution_count": 20,
      "outputs": [
        {
          "output_type": "stream",
          "text": [
            "Enter a string: pyrthon\n",
            "Enter the character to delete: r\n",
            "The resultant string is python\n",
            "The deleted char is r .\n"
          ],
          "name": "stdout"
        }
      ]
    },
    {
      "cell_type": "markdown",
      "metadata": {
        "id": "JMdLWNX8qGkP",
        "colab_type": "text"
      },
      "source": [
        "\n",
        "9. Program to print every character of a string entered by user in a new line using loop."
      ]
    },
    {
      "cell_type": "code",
      "metadata": {
        "id": "1pwJ7Y4oqGT3",
        "colab_type": "code",
        "colab": {
          "base_uri": "https://localhost:8080/",
          "height": 218
        },
        "outputId": "78bfd04b-5dde-418d-cabe-93a5652f07df"
      },
      "source": [
        "str=input(\"Enter a string: \")\n",
        "print(\"Characters in the string\",str,\"are:\")\n",
        "for i in str:\n",
        "    print(i)"
      ],
      "execution_count": 21,
      "outputs": [
        {
          "output_type": "stream",
          "text": [
            "Enter a string: Characters\n",
            "Characters in the string Characters are:\n",
            "C\n",
            "h\n",
            "a\n",
            "r\n",
            "a\n",
            "c\n",
            "t\n",
            "e\n",
            "r\n",
            "s\n"
          ],
          "name": "stdout"
        }
      ]
    },
    {
      "cell_type": "markdown",
      "metadata": {
        "id": "EzKBs1pwqG9h",
        "colab_type": "text"
      },
      "source": [
        "\n",
        "10. Program to find the length of the string \"refrigerator\" without using len function."
      ]
    },
    {
      "cell_type": "code",
      "metadata": {
        "id": "Ub9QKmdAqHPT",
        "colab_type": "code",
        "colab": {
          "base_uri": "https://localhost:8080/",
          "height": 34
        },
        "outputId": "f186f51a-bf08-4d1e-b46e-766860adf405"
      },
      "source": [
        "str= \"refrigerator\"\n",
        "len=0\n",
        "for i in string:\n",
        "    len+=1\n",
        "print(\"The length of the string\",str,\"is:\",len)"
      ],
      "execution_count": 26,
      "outputs": [
        {
          "output_type": "stream",
          "text": [
            "The length of the string refrigerator is: 12\n"
          ],
          "name": "stdout"
        }
      ]
    }
  ]
}
